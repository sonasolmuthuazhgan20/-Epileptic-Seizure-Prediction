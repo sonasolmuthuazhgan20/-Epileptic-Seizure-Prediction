{
 "cells": [
  {
   "cell_type": "code",
   "execution_count": 1,
   "metadata": {
    "id": "NHqj3PyJHZ2v"
   },
   "outputs": [],
   "source": [
    "import pandas as pd\n",
    "import matplotlib.pyplot as plt\n",
    "import matplotlib as mpl\n",
    "from mpl_toolkits.mplot3d import Axes3D\n",
    "import seaborn as sns\n",
    "import numpy as np\n",
    "from keras.models import Sequential\n",
    "from keras.layers import LSTM\n",
    "from tensorflow.keras.layers import Dense, Embedding, Conv1D, MaxPool1D, Dropout,LSTM, Input, Activation, Flatten\n",
    "from keras.callbacks import EarlyStopping, TensorBoard, ModelCheckpoint\n",
    "from time import time\n",
    "from keras.layers import LeakyReLU, PReLU\n",
    "import tensorflow as tf\n",
    "from tensorflow.python.client import device_lib\n",
    "from sklearn.preprocessing import StandardScaler\n"
   ]
  },
  {
   "cell_type": "markdown",
   "metadata": {
    "id": "PJX6_74KF1o3"
   },
   "source": [
    "Read the csv file and save it to a Dataframe"
   ]
  },
  {
   "cell_type": "code",
   "execution_count": 4,
   "metadata": {
    "colab": {
     "base_uri": "https://localhost:8080/",
     "height": 423
    },
    "id": "9VKbgACaI4qM",
    "outputId": "4b8e4313-e863-43ef-8a87-7565176694bc"
   },
   "outputs": [
    {
     "data": {
      "text/html": [
       "<div>\n",
       "<style scoped>\n",
       "    .dataframe tbody tr th:only-of-type {\n",
       "        vertical-align: middle;\n",
       "    }\n",
       "\n",
       "    .dataframe tbody tr th {\n",
       "        vertical-align: top;\n",
       "    }\n",
       "\n",
       "    .dataframe thead th {\n",
       "        text-align: right;\n",
       "    }\n",
       "</style>\n",
       "<table border=\"1\" class=\"dataframe\">\n",
       "  <thead>\n",
       "    <tr style=\"text-align: right;\">\n",
       "      <th></th>\n",
       "      <th>0</th>\n",
       "      <th>1</th>\n",
       "      <th>2</th>\n",
       "      <th>3</th>\n",
       "      <th>4</th>\n",
       "      <th>5</th>\n",
       "      <th>6</th>\n",
       "      <th>7</th>\n",
       "      <th>8</th>\n",
       "      <th>9</th>\n",
       "      <th>...</th>\n",
       "      <th>168</th>\n",
       "      <th>169</th>\n",
       "      <th>170</th>\n",
       "      <th>171</th>\n",
       "      <th>172</th>\n",
       "      <th>173</th>\n",
       "      <th>174</th>\n",
       "      <th>175</th>\n",
       "      <th>176</th>\n",
       "      <th>177</th>\n",
       "    </tr>\n",
       "  </thead>\n",
       "  <tbody>\n",
       "    <tr>\n",
       "      <th>0</th>\n",
       "      <td>1.035677</td>\n",
       "      <td>1.028781</td>\n",
       "      <td>0.955837</td>\n",
       "      <td>0.813229</td>\n",
       "      <td>0.401814</td>\n",
       "      <td>0.001752</td>\n",
       "      <td>-0.363469</td>\n",
       "      <td>-0.605002</td>\n",
       "      <td>-0.649010</td>\n",
       "      <td>-0.671846</td>\n",
       "      <td>...</td>\n",
       "      <td>1.330012</td>\n",
       "      <td>1.253165</td>\n",
       "      <td>0.980704</td>\n",
       "      <td>0.563123</td>\n",
       "      <td>0.173404</td>\n",
       "      <td>-0.111043</td>\n",
       "      <td>-0.342705</td>\n",
       "      <td>-0.535510</td>\n",
       "      <td>-0.660125</td>\n",
       "      <td>-0.701086</td>\n",
       "    </tr>\n",
       "    <tr>\n",
       "      <th>1</th>\n",
       "      <td>-0.060125</td>\n",
       "      <td>-0.038607</td>\n",
       "      <td>-0.020496</td>\n",
       "      <td>-0.013331</td>\n",
       "      <td>-0.021589</td>\n",
       "      <td>-0.023567</td>\n",
       "      <td>-0.058706</td>\n",
       "      <td>-0.088185</td>\n",
       "      <td>-0.099391</td>\n",
       "      <td>-0.087888</td>\n",
       "      <td>...</td>\n",
       "      <td>-0.062492</td>\n",
       "      <td>-0.013838</td>\n",
       "      <td>0.015981</td>\n",
       "      <td>0.060368</td>\n",
       "      <td>0.102255</td>\n",
       "      <td>0.124880</td>\n",
       "      <td>0.119145</td>\n",
       "      <td>0.095079</td>\n",
       "      <td>0.064094</td>\n",
       "      <td>0.032469</td>\n",
       "    </tr>\n",
       "    <tr>\n",
       "      <th>2</th>\n",
       "      <td>0.536842</td>\n",
       "      <td>2.519096</td>\n",
       "      <td>3.986116</td>\n",
       "      <td>4.863375</td>\n",
       "      <td>5.239507</td>\n",
       "      <td>5.255527</td>\n",
       "      <td>4.969877</td>\n",
       "      <td>4.424507</td>\n",
       "      <td>3.781248</td>\n",
       "      <td>3.022416</td>\n",
       "      <td>...</td>\n",
       "      <td>3.090199</td>\n",
       "      <td>3.318059</td>\n",
       "      <td>3.455079</td>\n",
       "      <td>3.116485</td>\n",
       "      <td>2.560861</td>\n",
       "      <td>1.854986</td>\n",
       "      <td>1.336018</td>\n",
       "      <td>0.885361</td>\n",
       "      <td>0.378612</td>\n",
       "      <td>-0.293098</td>\n",
       "    </tr>\n",
       "    <tr>\n",
       "      <th>3</th>\n",
       "      <td>-0.137813</td>\n",
       "      <td>-0.191667</td>\n",
       "      <td>-0.036701</td>\n",
       "      <td>-0.013331</td>\n",
       "      <td>0.016140</td>\n",
       "      <td>-0.044667</td>\n",
       "      <td>-0.075637</td>\n",
       "      <td>-0.012553</td>\n",
       "      <td>0.038013</td>\n",
       "      <td>-0.034047</td>\n",
       "      <td>...</td>\n",
       "      <td>-0.128988</td>\n",
       "      <td>-0.366674</td>\n",
       "      <td>-0.448217</td>\n",
       "      <td>-0.513643</td>\n",
       "      <td>-0.561806</td>\n",
       "      <td>-0.476725</td>\n",
       "      <td>-0.475236</td>\n",
       "      <td>-0.400384</td>\n",
       "      <td>-0.093165</td>\n",
       "      <td>0.065438</td>\n",
       "    </tr>\n",
       "    <tr>\n",
       "      <th>4</th>\n",
       "      <td>0.271069</td>\n",
       "      <td>0.154731</td>\n",
       "      <td>0.068630</td>\n",
       "      <td>-0.021597</td>\n",
       "      <td>-0.076087</td>\n",
       "      <td>-0.145944</td>\n",
       "      <td>-0.202622</td>\n",
       "      <td>-0.231045</td>\n",
       "      <td>-0.186831</td>\n",
       "      <td>-0.137586</td>\n",
       "      <td>...</td>\n",
       "      <td>-0.175927</td>\n",
       "      <td>-0.246389</td>\n",
       "      <td>-0.310976</td>\n",
       "      <td>-0.339460</td>\n",
       "      <td>-0.352311</td>\n",
       "      <td>-0.370559</td>\n",
       "      <td>-0.394914</td>\n",
       "      <td>-0.355342</td>\n",
       "      <td>-0.300085</td>\n",
       "      <td>-0.251887</td>\n",
       "    </tr>\n",
       "    <tr>\n",
       "      <th>...</th>\n",
       "      <td>...</td>\n",
       "      <td>...</td>\n",
       "      <td>...</td>\n",
       "      <td>...</td>\n",
       "      <td>...</td>\n",
       "      <td>...</td>\n",
       "      <td>...</td>\n",
       "      <td>...</td>\n",
       "      <td>...</td>\n",
       "      <td>...</td>\n",
       "      <td>...</td>\n",
       "      <td>...</td>\n",
       "      <td>...</td>\n",
       "      <td>...</td>\n",
       "      <td>...</td>\n",
       "      <td>...</td>\n",
       "      <td>...</td>\n",
       "      <td>...</td>\n",
       "      <td>...</td>\n",
       "      <td>...</td>\n",
       "      <td>...</td>\n",
       "    </tr>\n",
       "    <tr>\n",
       "      <th>1795</th>\n",
       "      <td>-0.190967</td>\n",
       "      <td>-0.103053</td>\n",
       "      <td>-0.065059</td>\n",
       "      <td>0.027997</td>\n",
       "      <td>-0.042550</td>\n",
       "      <td>-0.205023</td>\n",
       "      <td>-0.287278</td>\n",
       "      <td>-0.411721</td>\n",
       "      <td>-0.386692</td>\n",
       "      <td>-0.402645</td>\n",
       "      <td>...</td>\n",
       "      <td>0.234784</td>\n",
       "      <td>0.507398</td>\n",
       "      <td>0.524580</td>\n",
       "      <td>0.495825</td>\n",
       "      <td>0.224790</td>\n",
       "      <td>0.215318</td>\n",
       "      <td>0.191434</td>\n",
       "      <td>0.344857</td>\n",
       "      <td>0.453103</td>\n",
       "      <td>0.456943</td>\n",
       "    </tr>\n",
       "    <tr>\n",
       "      <th>1796</th>\n",
       "      <td>-0.268655</td>\n",
       "      <td>-0.316531</td>\n",
       "      <td>-0.267618</td>\n",
       "      <td>-0.203440</td>\n",
       "      <td>-0.113816</td>\n",
       "      <td>-0.061546</td>\n",
       "      <td>-0.033309</td>\n",
       "      <td>-0.071378</td>\n",
       "      <td>-0.111883</td>\n",
       "      <td>-0.096171</td>\n",
       "      <td>...</td>\n",
       "      <td>-0.175927</td>\n",
       "      <td>-0.246389</td>\n",
       "      <td>-0.286757</td>\n",
       "      <td>-0.299873</td>\n",
       "      <td>-0.320689</td>\n",
       "      <td>-0.370559</td>\n",
       "      <td>-0.394914</td>\n",
       "      <td>-0.449520</td>\n",
       "      <td>-0.515281</td>\n",
       "      <td>-0.565090</td>\n",
       "    </tr>\n",
       "    <tr>\n",
       "      <th>1797</th>\n",
       "      <td>0.144316</td>\n",
       "      <td>0.122508</td>\n",
       "      <td>0.096988</td>\n",
       "      <td>0.027997</td>\n",
       "      <td>0.020332</td>\n",
       "      <td>-0.015127</td>\n",
       "      <td>-0.003680</td>\n",
       "      <td>0.021061</td>\n",
       "      <td>0.075487</td>\n",
       "      <td>0.110907</td>\n",
       "      <td>...</td>\n",
       "      <td>0.015738</td>\n",
       "      <td>-0.009828</td>\n",
       "      <td>-0.020348</td>\n",
       "      <td>-0.002971</td>\n",
       "      <td>0.035058</td>\n",
       "      <td>0.014783</td>\n",
       "      <td>0.050871</td>\n",
       "      <td>0.058226</td>\n",
       "      <td>0.064094</td>\n",
       "      <td>0.069559</td>\n",
       "    </tr>\n",
       "    <tr>\n",
       "      <th>1798</th>\n",
       "      <td>0.038007</td>\n",
       "      <td>-0.002356</td>\n",
       "      <td>-0.024547</td>\n",
       "      <td>-0.013331</td>\n",
       "      <td>0.011948</td>\n",
       "      <td>0.043951</td>\n",
       "      <td>0.030183</td>\n",
       "      <td>0.042070</td>\n",
       "      <td>0.050505</td>\n",
       "      <td>0.061208</td>\n",
       "      <td>...</td>\n",
       "      <td>-0.031200</td>\n",
       "      <td>-0.086009</td>\n",
       "      <td>-0.109151</td>\n",
       "      <td>-0.090062</td>\n",
       "      <td>-0.071666</td>\n",
       "      <td>-0.067791</td>\n",
       "      <td>-0.061579</td>\n",
       "      <td>-0.080995</td>\n",
       "      <td>-0.055920</td>\n",
       "      <td>-0.008742</td>\n",
       "    </tr>\n",
       "    <tr>\n",
       "      <th>1799</th>\n",
       "      <td>-0.350431</td>\n",
       "      <td>-0.264168</td>\n",
       "      <td>-0.113673</td>\n",
       "      <td>0.135450</td>\n",
       "      <td>0.368277</td>\n",
       "      <td>0.567219</td>\n",
       "      <td>0.669338</td>\n",
       "      <td>0.617711</td>\n",
       "      <td>0.383607</td>\n",
       "      <td>0.048784</td>\n",
       "      <td>...</td>\n",
       "      <td>0.399068</td>\n",
       "      <td>0.330980</td>\n",
       "      <td>0.233952</td>\n",
       "      <td>0.171212</td>\n",
       "      <td>0.189215</td>\n",
       "      <td>0.274298</td>\n",
       "      <td>0.388222</td>\n",
       "      <td>0.422657</td>\n",
       "      <td>0.411719</td>\n",
       "      <td>0.358036</td>\n",
       "    </tr>\n",
       "  </tbody>\n",
       "</table>\n",
       "<p>1800 rows × 178 columns</p>\n",
       "</div>"
      ],
      "text/plain": [
       "             0         1         2         3         4         5         6  \\\n",
       "0     1.035677  1.028781  0.955837  0.813229  0.401814  0.001752 -0.363469   \n",
       "1    -0.060125 -0.038607 -0.020496 -0.013331 -0.021589 -0.023567 -0.058706   \n",
       "2     0.536842  2.519096  3.986116  4.863375  5.239507  5.255527  4.969877   \n",
       "3    -0.137813 -0.191667 -0.036701 -0.013331  0.016140 -0.044667 -0.075637   \n",
       "4     0.271069  0.154731  0.068630 -0.021597 -0.076087 -0.145944 -0.202622   \n",
       "...        ...       ...       ...       ...       ...       ...       ...   \n",
       "1795 -0.190967 -0.103053 -0.065059  0.027997 -0.042550 -0.205023 -0.287278   \n",
       "1796 -0.268655 -0.316531 -0.267618 -0.203440 -0.113816 -0.061546 -0.033309   \n",
       "1797  0.144316  0.122508  0.096988  0.027997  0.020332 -0.015127 -0.003680   \n",
       "1798  0.038007 -0.002356 -0.024547 -0.013331  0.011948  0.043951  0.030183   \n",
       "1799 -0.350431 -0.264168 -0.113673  0.135450  0.368277  0.567219  0.669338   \n",
       "\n",
       "             7         8         9  ...       168       169       170  \\\n",
       "0    -0.605002 -0.649010 -0.671846  ...  1.330012  1.253165  0.980704   \n",
       "1    -0.088185 -0.099391 -0.087888  ... -0.062492 -0.013838  0.015981   \n",
       "2     4.424507  3.781248  3.022416  ...  3.090199  3.318059  3.455079   \n",
       "3    -0.012553  0.038013 -0.034047  ... -0.128988 -0.366674 -0.448217   \n",
       "4    -0.231045 -0.186831 -0.137586  ... -0.175927 -0.246389 -0.310976   \n",
       "...        ...       ...       ...  ...       ...       ...       ...   \n",
       "1795 -0.411721 -0.386692 -0.402645  ...  0.234784  0.507398  0.524580   \n",
       "1796 -0.071378 -0.111883 -0.096171  ... -0.175927 -0.246389 -0.286757   \n",
       "1797  0.021061  0.075487  0.110907  ...  0.015738 -0.009828 -0.020348   \n",
       "1798  0.042070  0.050505  0.061208  ... -0.031200 -0.086009 -0.109151   \n",
       "1799  0.617711  0.383607  0.048784  ...  0.399068  0.330980  0.233952   \n",
       "\n",
       "           171       172       173       174       175       176       177  \n",
       "0     0.563123  0.173404 -0.111043 -0.342705 -0.535510 -0.660125 -0.701086  \n",
       "1     0.060368  0.102255  0.124880  0.119145  0.095079  0.064094  0.032469  \n",
       "2     3.116485  2.560861  1.854986  1.336018  0.885361  0.378612 -0.293098  \n",
       "3    -0.513643 -0.561806 -0.476725 -0.475236 -0.400384 -0.093165  0.065438  \n",
       "4    -0.339460 -0.352311 -0.370559 -0.394914 -0.355342 -0.300085 -0.251887  \n",
       "...        ...       ...       ...       ...       ...       ...       ...  \n",
       "1795  0.495825  0.224790  0.215318  0.191434  0.344857  0.453103  0.456943  \n",
       "1796 -0.299873 -0.320689 -0.370559 -0.394914 -0.449520 -0.515281 -0.565090  \n",
       "1797 -0.002971  0.035058  0.014783  0.050871  0.058226  0.064094  0.069559  \n",
       "1798 -0.090062 -0.071666 -0.067791 -0.061579 -0.080995 -0.055920 -0.008742  \n",
       "1799  0.171212  0.189215  0.274298  0.388222  0.422657  0.411719  0.358036  \n",
       "\n",
       "[1800 rows x 178 columns]"
      ]
     },
     "execution_count": 4,
     "metadata": {},
     "output_type": "execute_result"
    }
   ],
   "source": [
    "df =  pd.read_csv(r\"C:\\Users\\SONA\\Music\\ITML22- Epileptic Seizure Prediction\\DATASET\\Epileptic Seizure Recognition (2).csv\")\n",
    "df"
   ]
  },
  {
   "cell_type": "code",
   "execution_count": 6,
   "metadata": {
    "colab": {
     "base_uri": "https://localhost:8080/"
    },
    "id": "EJkNsICuJHdo",
    "outputId": "896df7ab-1986-4c2b-9f76-8e285061bd89"
   },
   "outputs": [
    {
     "name": "stdout",
     "output_type": "stream",
     "text": [
      "<class 'pandas.core.frame.DataFrame'>\n",
      "RangeIndex: 1800 entries, 0 to 1799\n",
      "Columns: 178 entries, 0 to 177\n",
      "dtypes: float64(178)\n",
      "memory usage: 2.4 MB\n"
     ]
    }
   ],
   "source": [
    "df.info()\n"
   ]
  },
  {
   "cell_type": "markdown",
   "metadata": {
    "id": "5MDEreztF9q9"
   },
   "source": [
    "Check for Null Values"
   ]
  },
  {
   "cell_type": "code",
   "execution_count": 9,
   "metadata": {
    "colab": {
     "base_uri": "https://localhost:8080/"
    },
    "id": "rL5ukONTKpqY",
    "outputId": "e9c8dc81-0e9d-406e-d504-82eb7d533c03"
   },
   "outputs": [
    {
     "data": {
      "text/plain": [
       "0      0\n",
       "1      0\n",
       "2      0\n",
       "3      0\n",
       "4      0\n",
       "      ..\n",
       "173    0\n",
       "174    0\n",
       "175    0\n",
       "176    0\n",
       "177    0\n",
       "Length: 178, dtype: int64"
      ]
     },
     "execution_count": 9,
     "metadata": {},
     "output_type": "execute_result"
    }
   ],
   "source": [
    "df.isnull().sum()"
   ]
  },
  {
   "cell_type": "code",
   "execution_count": 11,
   "metadata": {
    "colab": {
     "base_uri": "https://localhost:8080/",
     "height": 443
    },
    "id": "v0NV1iRPK3RH",
    "outputId": "827d2b1a-a55a-4560-ba04-523f3e8f0062",
    "scrolled": true
   },
   "outputs": [
    {
     "data": {
      "text/html": [
       "<div>\n",
       "<style scoped>\n",
       "    .dataframe tbody tr th:only-of-type {\n",
       "        vertical-align: middle;\n",
       "    }\n",
       "\n",
       "    .dataframe tbody tr th {\n",
       "        vertical-align: top;\n",
       "    }\n",
       "\n",
       "    .dataframe thead th {\n",
       "        text-align: right;\n",
       "    }\n",
       "</style>\n",
       "<table border=\"1\" class=\"dataframe\">\n",
       "  <thead>\n",
       "    <tr style=\"text-align: right;\">\n",
       "      <th></th>\n",
       "      <th>0</th>\n",
       "      <th>1</th>\n",
       "      <th>2</th>\n",
       "      <th>3</th>\n",
       "      <th>4</th>\n",
       "      <th>5</th>\n",
       "      <th>6</th>\n",
       "      <th>7</th>\n",
       "      <th>8</th>\n",
       "      <th>9</th>\n",
       "      <th>...</th>\n",
       "      <th>168</th>\n",
       "      <th>169</th>\n",
       "      <th>170</th>\n",
       "      <th>171</th>\n",
       "      <th>172</th>\n",
       "      <th>173</th>\n",
       "      <th>174</th>\n",
       "      <th>175</th>\n",
       "      <th>176</th>\n",
       "      <th>177</th>\n",
       "    </tr>\n",
       "  </thead>\n",
       "  <tbody>\n",
       "    <tr>\n",
       "      <th>count</th>\n",
       "      <td>1800.000000</td>\n",
       "      <td>1800.000000</td>\n",
       "      <td>1800.000000</td>\n",
       "      <td>1800.000000</td>\n",
       "      <td>1800.000000</td>\n",
       "      <td>1800.000000</td>\n",
       "      <td>1800.000000</td>\n",
       "      <td>1800.000000</td>\n",
       "      <td>1800.000000</td>\n",
       "      <td>1800.000000</td>\n",
       "      <td>...</td>\n",
       "      <td>1800.000000</td>\n",
       "      <td>1800.000000</td>\n",
       "      <td>1800.000000</td>\n",
       "      <td>1800.000000</td>\n",
       "      <td>1800.000000</td>\n",
       "      <td>1800.000000</td>\n",
       "      <td>1800.000000</td>\n",
       "      <td>1800.000000</td>\n",
       "      <td>1800.000000</td>\n",
       "      <td>1800.000000</td>\n",
       "    </tr>\n",
       "    <tr>\n",
       "      <th>mean</th>\n",
       "      <td>0.030204</td>\n",
       "      <td>0.029750</td>\n",
       "      <td>0.027729</td>\n",
       "      <td>0.021031</td>\n",
       "      <td>0.017120</td>\n",
       "      <td>0.015495</td>\n",
       "      <td>0.016217</td>\n",
       "      <td>0.022261</td>\n",
       "      <td>0.027012</td>\n",
       "      <td>0.033347</td>\n",
       "      <td>...</td>\n",
       "      <td>0.008235</td>\n",
       "      <td>-0.002221</td>\n",
       "      <td>-0.007050</td>\n",
       "      <td>-0.005126</td>\n",
       "      <td>0.001154</td>\n",
       "      <td>0.012884</td>\n",
       "      <td>0.024901</td>\n",
       "      <td>0.035939</td>\n",
       "      <td>0.040264</td>\n",
       "      <td>0.033703</td>\n",
       "    </tr>\n",
       "    <tr>\n",
       "      <th>std</th>\n",
       "      <td>1.002598</td>\n",
       "      <td>0.978528</td>\n",
       "      <td>0.976693</td>\n",
       "      <td>1.005373</td>\n",
       "      <td>1.036119</td>\n",
       "      <td>1.051323</td>\n",
       "      <td>1.047572</td>\n",
       "      <td>1.031935</td>\n",
       "      <td>1.015422</td>\n",
       "      <td>1.003839</td>\n",
       "      <td>...</td>\n",
       "      <td>0.987038</td>\n",
       "      <td>1.024490</td>\n",
       "      <td>1.047950</td>\n",
       "      <td>1.021497</td>\n",
       "      <td>0.977969</td>\n",
       "      <td>0.932692</td>\n",
       "      <td>0.930426</td>\n",
       "      <td>0.953035</td>\n",
       "      <td>0.995033</td>\n",
       "      <td>1.026826</td>\n",
       "    </tr>\n",
       "    <tr>\n",
       "      <th>min</th>\n",
       "      <td>-7.456791</td>\n",
       "      <td>-7.345180</td>\n",
       "      <td>-7.381480</td>\n",
       "      <td>-6.931642</td>\n",
       "      <td>-5.710281</td>\n",
       "      <td>-6.344976</td>\n",
       "      <td>-6.234382</td>\n",
       "      <td>-6.794196</td>\n",
       "      <td>-7.519241</td>\n",
       "      <td>-7.737331</td>\n",
       "      <td>...</td>\n",
       "      <td>-6.700355</td>\n",
       "      <td>-7.435427</td>\n",
       "      <td>-7.471727</td>\n",
       "      <td>-6.431900</td>\n",
       "      <td>-5.293241</td>\n",
       "      <td>-5.572671</td>\n",
       "      <td>-6.511410</td>\n",
       "      <td>-7.209918</td>\n",
       "      <td>-6.110385</td>\n",
       "      <td>-5.337324</td>\n",
       "    </tr>\n",
       "    <tr>\n",
       "      <th>25%</th>\n",
       "      <td>-0.268655</td>\n",
       "      <td>-0.285315</td>\n",
       "      <td>-0.291925</td>\n",
       "      <td>-0.294362</td>\n",
       "      <td>-0.302461</td>\n",
       "      <td>-0.293641</td>\n",
       "      <td>-0.321141</td>\n",
       "      <td>-0.319282</td>\n",
       "      <td>-0.300294</td>\n",
       "      <td>-0.303248</td>\n",
       "      <td>...</td>\n",
       "      <td>-0.254157</td>\n",
       "      <td>-0.283477</td>\n",
       "      <td>-0.282720</td>\n",
       "      <td>-0.277111</td>\n",
       "      <td>-0.274244</td>\n",
       "      <td>-0.276190</td>\n",
       "      <td>-0.266399</td>\n",
       "      <td>-0.269352</td>\n",
       "      <td>-0.250424</td>\n",
       "      <td>-0.265280</td>\n",
       "    </tr>\n",
       "    <tr>\n",
       "      <th>50%</th>\n",
       "      <td>0.035962</td>\n",
       "      <td>0.025839</td>\n",
       "      <td>0.024067</td>\n",
       "      <td>0.015598</td>\n",
       "      <td>-0.004821</td>\n",
       "      <td>-0.021457</td>\n",
       "      <td>-0.029076</td>\n",
       "      <td>-0.029360</td>\n",
       "      <td>-0.024443</td>\n",
       "      <td>-0.021623</td>\n",
       "      <td>...</td>\n",
       "      <td>0.011827</td>\n",
       "      <td>0.014229</td>\n",
       "      <td>0.015981</td>\n",
       "      <td>0.020781</td>\n",
       "      <td>0.035058</td>\n",
       "      <td>0.038375</td>\n",
       "      <td>0.030791</td>\n",
       "      <td>0.041847</td>\n",
       "      <td>0.030987</td>\n",
       "      <td>0.040712</td>\n",
       "    </tr>\n",
       "    <tr>\n",
       "      <th>75%</th>\n",
       "      <td>0.307868</td>\n",
       "      <td>0.299735</td>\n",
       "      <td>0.295496</td>\n",
       "      <td>0.301795</td>\n",
       "      <td>0.292819</td>\n",
       "      <td>0.284486</td>\n",
       "      <td>0.262988</td>\n",
       "      <td>0.278419</td>\n",
       "      <td>0.271185</td>\n",
       "      <td>0.273463</td>\n",
       "      <td>...</td>\n",
       "      <td>0.285634</td>\n",
       "      <td>0.286875</td>\n",
       "      <td>0.279362</td>\n",
       "      <td>0.301849</td>\n",
       "      <td>0.308786</td>\n",
       "      <td>0.305755</td>\n",
       "      <td>0.316937</td>\n",
       "      <td>0.324383</td>\n",
       "      <td>0.333089</td>\n",
       "      <td>0.325067</td>\n",
       "    </tr>\n",
       "    <tr>\n",
       "      <th>max</th>\n",
       "      <td>5.112226</td>\n",
       "      <td>5.519866</td>\n",
       "      <td>5.213621</td>\n",
       "      <td>4.863375</td>\n",
       "      <td>5.273044</td>\n",
       "      <td>5.255527</td>\n",
       "      <td>5.537074</td>\n",
       "      <td>5.193429</td>\n",
       "      <td>4.734753</td>\n",
       "      <td>5.300269</td>\n",
       "      <td>...</td>\n",
       "      <td>5.523170</td>\n",
       "      <td>5.739799</td>\n",
       "      <td>5.759921</td>\n",
       "      <td>4.723717</td>\n",
       "      <td>4.711154</td>\n",
       "      <td>4.461940</td>\n",
       "      <td>4.564950</td>\n",
       "      <td>5.131595</td>\n",
       "      <td>5.249498</td>\n",
       "      <td>5.068454</td>\n",
       "    </tr>\n",
       "  </tbody>\n",
       "</table>\n",
       "<p>8 rows × 178 columns</p>\n",
       "</div>"
      ],
      "text/plain": [
       "                 0            1            2            3            4  \\\n",
       "count  1800.000000  1800.000000  1800.000000  1800.000000  1800.000000   \n",
       "mean      0.030204     0.029750     0.027729     0.021031     0.017120   \n",
       "std       1.002598     0.978528     0.976693     1.005373     1.036119   \n",
       "min      -7.456791    -7.345180    -7.381480    -6.931642    -5.710281   \n",
       "25%      -0.268655    -0.285315    -0.291925    -0.294362    -0.302461   \n",
       "50%       0.035962     0.025839     0.024067     0.015598    -0.004821   \n",
       "75%       0.307868     0.299735     0.295496     0.301795     0.292819   \n",
       "max       5.112226     5.519866     5.213621     4.863375     5.273044   \n",
       "\n",
       "                 5            6            7            8            9  ...  \\\n",
       "count  1800.000000  1800.000000  1800.000000  1800.000000  1800.000000  ...   \n",
       "mean      0.015495     0.016217     0.022261     0.027012     0.033347  ...   \n",
       "std       1.051323     1.047572     1.031935     1.015422     1.003839  ...   \n",
       "min      -6.344976    -6.234382    -6.794196    -7.519241    -7.737331  ...   \n",
       "25%      -0.293641    -0.321141    -0.319282    -0.300294    -0.303248  ...   \n",
       "50%      -0.021457    -0.029076    -0.029360    -0.024443    -0.021623  ...   \n",
       "75%       0.284486     0.262988     0.278419     0.271185     0.273463  ...   \n",
       "max       5.255527     5.537074     5.193429     4.734753     5.300269  ...   \n",
       "\n",
       "               168          169          170          171          172  \\\n",
       "count  1800.000000  1800.000000  1800.000000  1800.000000  1800.000000   \n",
       "mean      0.008235    -0.002221    -0.007050    -0.005126     0.001154   \n",
       "std       0.987038     1.024490     1.047950     1.021497     0.977969   \n",
       "min      -6.700355    -7.435427    -7.471727    -6.431900    -5.293241   \n",
       "25%      -0.254157    -0.283477    -0.282720    -0.277111    -0.274244   \n",
       "50%       0.011827     0.014229     0.015981     0.020781     0.035058   \n",
       "75%       0.285634     0.286875     0.279362     0.301849     0.308786   \n",
       "max       5.523170     5.739799     5.759921     4.723717     4.711154   \n",
       "\n",
       "               173          174          175          176          177  \n",
       "count  1800.000000  1800.000000  1800.000000  1800.000000  1800.000000  \n",
       "mean      0.012884     0.024901     0.035939     0.040264     0.033703  \n",
       "std       0.932692     0.930426     0.953035     0.995033     1.026826  \n",
       "min      -5.572671    -6.511410    -7.209918    -6.110385    -5.337324  \n",
       "25%      -0.276190    -0.266399    -0.269352    -0.250424    -0.265280  \n",
       "50%       0.038375     0.030791     0.041847     0.030987     0.040712  \n",
       "75%       0.305755     0.316937     0.324383     0.333089     0.325067  \n",
       "max       4.461940     4.564950     5.131595     5.249498     5.068454  \n",
       "\n",
       "[8 rows x 178 columns]"
      ]
     },
     "execution_count": 11,
     "metadata": {},
     "output_type": "execute_result"
    }
   ],
   "source": [
    "df.describe(include=\"all\")"
   ]
  },
  {
   "cell_type": "code",
   "execution_count": 22,
   "metadata": {},
   "outputs": [
    {
     "name": "stdout",
     "output_type": "stream",
     "text": [
      "Index(['0', '1', '2', '3', '4', '5', '6', '7', '8', '9',\n",
      "       ...\n",
      "       '168', '169', '170', '171', '172', '173', '174', '175', '176', '177'],\n",
      "      dtype='object', length=178)\n"
     ]
    }
   ],
   "source": [
    "print(df.columns)\n"
   ]
  },
  {
   "cell_type": "code",
   "execution_count": 24,
   "metadata": {
    "scrolled": true
   },
   "outputs": [
    {
     "name": "stdout",
     "output_type": "stream",
     "text": [
      "          0         1         2         3         4         5         6  \\\n",
      "0  1.035677  1.028781  0.955837  0.813229  0.401814  0.001752 -0.363469   \n",
      "1 -0.060125 -0.038607 -0.020496 -0.013331 -0.021589 -0.023567 -0.058706   \n",
      "2  0.536842  2.519096  3.986116  4.863375  5.239507  5.255527  4.969877   \n",
      "3 -0.137813 -0.191667 -0.036701 -0.013331  0.016140 -0.044667 -0.075637   \n",
      "4  0.271069  0.154731  0.068630 -0.021597 -0.076087 -0.145944 -0.202622   \n",
      "\n",
      "          7         8         9  ...       168       169       170       171  \\\n",
      "0 -0.605002 -0.649010 -0.671846  ...  1.330012  1.253165  0.980704  0.563123   \n",
      "1 -0.088185 -0.099391 -0.087888  ... -0.062492 -0.013838  0.015981  0.060368   \n",
      "2  4.424507  3.781248  3.022416  ...  3.090199  3.318059  3.455079  3.116485   \n",
      "3 -0.012553  0.038013 -0.034047  ... -0.128988 -0.366674 -0.448217 -0.513643   \n",
      "4 -0.231045 -0.186831 -0.137586  ... -0.175927 -0.246389 -0.310976 -0.339460   \n",
      "\n",
      "        172       173       174       175       176       177  \n",
      "0  0.173404 -0.111043 -0.342705 -0.535510 -0.660125 -0.701086  \n",
      "1  0.102255  0.124880  0.119145  0.095079  0.064094  0.032469  \n",
      "2  2.560861  1.854986  1.336018  0.885361  0.378612 -0.293098  \n",
      "3 -0.561806 -0.476725 -0.475236 -0.400384 -0.093165  0.065438  \n",
      "4 -0.352311 -0.370559 -0.394914 -0.355342 -0.300085 -0.251887  \n",
      "\n",
      "[5 rows x 178 columns]\n"
     ]
    }
   ],
   "source": [
    "print(df.head())\n"
   ]
  },
  {
   "cell_type": "code",
   "execution_count": 28,
   "metadata": {},
   "outputs": [],
   "source": [
    "data = {'X1': [1, 2, 3, 4, 5]}  # Example data\n",
    "df = pd.DataFrame(data)\n"
   ]
  },
  {
   "cell_type": "code",
   "execution_count": 30,
   "metadata": {
    "colab": {
     "base_uri": "https://localhost:8080/",
     "height": 462
    },
    "id": "7x83hq6jOblj",
    "outputId": "38d2ecf1-3991-4f8d-d67b-550e73e22c4d"
   },
   "outputs": [
    {
     "data": {
      "text/plain": [
       "<Axes: >"
      ]
     },
     "execution_count": 30,
     "metadata": {},
     "output_type": "execute_result"
    },
    {
     "data": {
      "image/png": "[encoded data removed]",
      "text/plain": [
       "<Figure size 1500x500 with 1 Axes>"
      ]
     },
     "metadata": {},
     "output_type": "display_data"
    }
   ],
   "source": [
    "plt.figure(figsize=(15,5))\n",
    "df['X1'].plot()"
   ]
  },
  {
   "cell_type": "code",
   "execution_count": 32,
   "metadata": {
    "colab": {
     "base_uri": "https://localhost:8080/",
     "height": 564
    },
    "id": "exMApamwOsoR",
    "outputId": "89b4a345-9a3f-450c-f9c7-58d00d321f56",
    "scrolled": true
   },
   "outputs": [
    {
     "data": {
      "image/png": "[encoded data removed]",
      "text/plain": [
       "<Figure size 1000x600 with 1 Axes>"
      ]
     },
     "metadata": {},
     "output_type": "display_data"
    }
   ],
   "source": [
    "row_index = 0\n",
    "row_values = df.iloc[row_index, 1:178]\n",
    "plt.figure(figsize=(10, 6))\n",
    "plt.plot(row_values.index, row_values, label=f'Row {1}')\n",
    "plt.title(f'Line Plot for Row {1}')\n",
    "plt.xlabel('Column')\n",
    "plt.ylabel('Values')\n",
    "plt.legend()\n",
    "plt.show()"
   ]
  },
  {
   "cell_type": "code",
   "execution_count": 57,
   "metadata": {
    "scrolled": true
   },
   "outputs": [
    {
     "name": "stdout",
     "output_type": "stream",
     "text": [
      "DataFrame shape: (5, 1)\n",
      "   X1\n",
      "0   1\n",
      "1   2\n",
      "2   3\n",
      "3   4\n",
      "4   5\n"
     ]
    }
   ],
   "source": [
    "print(f\"DataFrame shape: {df.shape}\")\n",
    "print(df.head())  # Print the first few rows to understand its content\n"
   ]
  },
  {
   "cell_type": "code",
   "execution_count": 59,
   "metadata": {},
   "outputs": [
    {
     "name": "stdout",
     "output_type": "stream",
     "text": [
      "Row index 100 is out of bounds. DataFrame has 5 rows.\n"
     ]
    }
   ],
   "source": [
    "row_index = 100\n",
    "num_rows = df.shape[0]\n",
    "\n",
    "if row_index >= num_rows:\n",
    "    print(f\"Row index {row_index} is out of bounds. DataFrame has {num_rows} rows.\")\n",
    "else:\n",
    "    print(f\"Row index {row_index} is within bounds.\")\n"
   ]
  },
  {
   "cell_type": "code",
   "execution_count": 61,
   "metadata": {
    "jupyter": {
     "source_hidden": true
    }
   },
   "outputs": [
    {
     "name": "stdout",
     "output_type": "stream",
     "text": [
      "Starting column index 1 is out of bounds. DataFrame has 1 columns.\n"
     ]
    }
   ],
   "source": [
    "start_col = 1\n",
    "end_col = 178\n",
    "num_cols = df.shape[1]\n",
    "\n",
    "if start_col >= num_cols:\n",
    "    print(f\"Starting column index {start_col} is out of bounds. DataFrame has {num_cols} columns.\")\n",
    "elif end_col > num_cols:\n",
    "    print(f\"Ending column index {end_col} is beyond the DataFrame's column count. Adjusting to {num_cols}.\")\n",
    "    end_col = num_cols\n"
   ]
  },
  {
   "cell_type": "code",
   "execution_count": 63,
   "metadata": {},
   "outputs": [],
   "source": [
    "if row_index < num_rows and start_col < num_cols:\n",
    "    # Adjust the column range if needed\n",
    "    if end_col > num_cols:\n",
    "        end_col = num_cols\n",
    "        \n",
    "    try:\n",
    "        row_values = df.iloc[row_index, start_col:end_col]\n",
    "        print(row_values)\n",
    "    except IndexError as e:\n",
    "        print(f\"IndexError: {e}\")\n"
   ]
  },
  {
   "cell_type": "code",
   "execution_count": 65,
   "metadata": {},
   "outputs": [],
   "source": []
  },
  {
   "cell_type": "code",
   "execution_count": 73,
   "metadata": {
    "colab": {
     "base_uri": "https://localhost:8080/"
    },
    "id": "SeZwqmpJT_oq",
    "outputId": "784db2f4-d305-46d0-a99b-0953aa1c822c"
   },
   "outputs": [
    {
     "ename": "KeyError",
     "evalue": "'y'",
     "output_type": "error",
     "traceback": [
      "\u001b[1;31m---------------------------------------------------------------------------\u001b[0m",
      "\u001b[1;31mKeyError\u001b[0m                                  Traceback (most recent call last)",
      "File \u001b[1;32mC:\\ProgramData\\anaconda3\\Lib\\site-packages\\pandas\\core\\indexes\\base.py:3805\u001b[0m, in \u001b[0;36mIndex.get_loc\u001b[1;34m(self, key)\u001b[0m\n\u001b[0;32m   3804\u001b[0m \u001b[38;5;28;01mtry\u001b[39;00m:\n\u001b[1;32m-> 3805\u001b[0m     \u001b[38;5;28;01mreturn\u001b[39;00m \u001b[38;5;28mself\u001b[39m\u001b[38;5;241m.\u001b[39m_engine\u001b[38;5;241m.\u001b[39mget_loc(casted_key)\n\u001b[0;32m   3806\u001b[0m \u001b[38;5;28;01mexcept\u001b[39;00m \u001b[38;5;167;01mKeyError\u001b[39;00m \u001b[38;5;28;01mas\u001b[39;00m err:\n",
      "File \u001b[1;32mindex.pyx:167\u001b[0m, in \u001b[0;36mpandas._libs.index.IndexEngine.get_loc\u001b[1;34m()\u001b[0m\n",
      "File \u001b[1;32mindex.pyx:196\u001b[0m, in \u001b[0;36mpandas._libs.index.IndexEngine.get_loc\u001b[1;34m()\u001b[0m\n",
      "File \u001b[1;32mpandas\\\\_libs\\\\hashtable_class_helper.pxi:7081\u001b[0m, in \u001b[0;36mpandas._libs.hashtable.PyObjectHashTable.get_item\u001b[1;34m()\u001b[0m\n",
      "File \u001b[1;32mpandas\\\\_libs\\\\hashtable_class_helper.pxi:7089\u001b[0m, in \u001b[0;36mpandas._libs.hashtable.PyObjectHashTable.get_item\u001b[1;34m()\u001b[0m\n",
      "\u001b[1;31mKeyError\u001b[0m: 'y'",
      "\nThe above exception was the direct cause of the following exception:\n",
      "\u001b[1;31mKeyError\u001b[0m                                  Traceback (most recent call last)",
      "Cell \u001b[1;32mIn[73], line 1\u001b[0m\n\u001b[1;32m----> 1\u001b[0m df[\u001b[38;5;124m\"\u001b[39m\u001b[38;5;124my\u001b[39m\u001b[38;5;124m\"\u001b[39m]\u001b[38;5;241m.\u001b[39mvalue_counts()\n",
      "File \u001b[1;32mC:\\ProgramData\\anaconda3\\Lib\\site-packages\\pandas\\core\\frame.py:4102\u001b[0m, in \u001b[0;36mDataFrame.__getitem__\u001b[1;34m(self, key)\u001b[0m\n\u001b[0;32m   4100\u001b[0m \u001b[38;5;28;01mif\u001b[39;00m \u001b[38;5;28mself\u001b[39m\u001b[38;5;241m.\u001b[39mcolumns\u001b[38;5;241m.\u001b[39mnlevels \u001b[38;5;241m>\u001b[39m \u001b[38;5;241m1\u001b[39m:\n\u001b[0;32m   4101\u001b[0m     \u001b[38;5;28;01mreturn\u001b[39;00m \u001b[38;5;28mself\u001b[39m\u001b[38;5;241m.\u001b[39m_getitem_multilevel(key)\n\u001b[1;32m-> 4102\u001b[0m indexer \u001b[38;5;241m=\u001b[39m \u001b[38;5;28mself\u001b[39m\u001b[38;5;241m.\u001b[39mcolumns\u001b[38;5;241m.\u001b[39mget_loc(key)\n\u001b[0;32m   4103\u001b[0m \u001b[38;5;28;01mif\u001b[39;00m is_integer(indexer):\n\u001b[0;32m   4104\u001b[0m     indexer \u001b[38;5;241m=\u001b[39m [indexer]\n",
      "File \u001b[1;32mC:\\ProgramData\\anaconda3\\Lib\\site-packages\\pandas\\core\\indexes\\base.py:3812\u001b[0m, in \u001b[0;36mIndex.get_loc\u001b[1;34m(self, key)\u001b[0m\n\u001b[0;32m   3807\u001b[0m     \u001b[38;5;28;01mif\u001b[39;00m \u001b[38;5;28misinstance\u001b[39m(casted_key, \u001b[38;5;28mslice\u001b[39m) \u001b[38;5;129;01mor\u001b[39;00m (\n\u001b[0;32m   3808\u001b[0m         \u001b[38;5;28misinstance\u001b[39m(casted_key, abc\u001b[38;5;241m.\u001b[39mIterable)\n\u001b[0;32m   3809\u001b[0m         \u001b[38;5;129;01mand\u001b[39;00m \u001b[38;5;28many\u001b[39m(\u001b[38;5;28misinstance\u001b[39m(x, \u001b[38;5;28mslice\u001b[39m) \u001b[38;5;28;01mfor\u001b[39;00m x \u001b[38;5;129;01min\u001b[39;00m casted_key)\n\u001b[0;32m   3810\u001b[0m     ):\n\u001b[0;32m   3811\u001b[0m         \u001b[38;5;28;01mraise\u001b[39;00m InvalidIndexError(key)\n\u001b[1;32m-> 3812\u001b[0m     \u001b[38;5;28;01mraise\u001b[39;00m \u001b[38;5;167;01mKeyError\u001b[39;00m(key) \u001b[38;5;28;01mfrom\u001b[39;00m \u001b[38;5;21;01merr\u001b[39;00m\n\u001b[0;32m   3813\u001b[0m \u001b[38;5;28;01mexcept\u001b[39;00m \u001b[38;5;167;01mTypeError\u001b[39;00m:\n\u001b[0;32m   3814\u001b[0m     \u001b[38;5;66;03m# If we have a listlike key, _check_indexing_error will raise\u001b[39;00m\n\u001b[0;32m   3815\u001b[0m     \u001b[38;5;66;03m#  InvalidIndexError. Otherwise we fall through and re-raise\u001b[39;00m\n\u001b[0;32m   3816\u001b[0m     \u001b[38;5;66;03m#  the TypeError.\u001b[39;00m\n\u001b[0;32m   3817\u001b[0m     \u001b[38;5;28mself\u001b[39m\u001b[38;5;241m.\u001b[39m_check_indexing_error(key)\n",
      "\u001b[1;31mKeyError\u001b[0m: 'y'"
     ]
    }
   ],
   "source": [
    "df[\"y\"].value_counts()"
   ]
  },
  {
   "cell_type": "markdown",
   "metadata": {
    "id": "TeoabgA4e_aj"
   },
   "source": [
    "y contains the category of the 178-dimensional input vector. Specifically y in {1, 2, 3, 4, 5}:\n",
    "\n",
    "5 - eyes open, means when they were recording the EEG signal of the brain the patient had their eyes open\n",
    "\n",
    "4 - eyes closed, means when they were recording the EEG signal the patient had their eyes closed\n",
    "\n",
    "3 - Yes they identify where the region of the tumor was in the brain and recording the EEG activity from the healthy brain area\n",
    "\n",
    "2 - They recorder the EEG from the area where the tumor was located\n",
    "\n",
    "1 - Recording of seizure activity"
   ]
  },
  {
   "cell_type": "code",
   "execution_count": null,
   "metadata": {
    "colab": {
     "base_uri": "https://localhost:8080/",
     "height": 576
    },
    "id": "StSxpDlxggKN",
    "outputId": "32151123-530e-41a3-dec8-15e876c7522a"
   },
   "outputs": [],
   "source": [
    "values = df['y'].value_counts()\n",
    "plt.figure(figsize=(7,7))\n",
    "values.plot(kind='pie',fontsize=17, autopct='%.2f')\n",
    "plt.legend(loc=\"best\")\n",
    "plt.show()"
   ]
  },
  {
   "cell_type": "code",
   "execution_count": null,
   "metadata": {
    "id": "4q4oLP_HZTJS"
   },
   "outputs": [],
   "source": [
    "df = df.drop(['Unnamed'], axis = 1)"
   ]
  },
  {
   "cell_type": "code",
   "execution_count": null,
   "metadata": {
    "colab": {
     "base_uri": "https://localhost:8080/",
     "height": 235
    },
    "id": "jCCfWcusebXr",
    "outputId": "bc749773-d99c-4326-ced6-a76635198f3b"
   },
   "outputs": [],
   "source": [
    "df.head()"
   ]
  },
  {
   "cell_type": "code",
   "execution_count": null,
   "metadata": {
    "id": "ATmSMz3Ag1ib"
   },
   "outputs": [],
   "source": [
    "df['y'] = df['y'].replace([2,3,4,5],0)"
   ]
  },
  {
   "cell_type": "markdown",
   "metadata": {
    "id": "Gh_Oe1eHg-Va"
   },
   "source": [
    "All subjects falling in classes 2, 3, 4, and 5 are subjects who did not have epileptic seizure. Only subjects in class 1 have epileptic seizure."
   ]
  },
  {
   "cell_type": "code",
   "execution_count": null,
   "metadata": {
    "colab": {
     "base_uri": "https://localhost:8080/"
    },
    "id": "Lm34GmkMg4cC",
    "outputId": "72067ef5-2d33-47a4-f7bf-96e26db8acac"
   },
   "outputs": [],
   "source": [
    "df[\"y\"].value_counts()"
   ]
  },
  {
   "cell_type": "code",
   "execution_count": null,
   "metadata": {
    "colab": {
     "base_uri": "https://localhost:8080/",
     "height": 542
    },
    "id": "reZLTlo6hVBx",
    "outputId": "73ebff77-7198-4269-cb20-cdfef4c09ced"
   },
   "outputs": [],
   "source": [
    "plt.figure(figsize=(10,6),dpi=100)\n",
    "sns.despine(left=True)\n",
    "sns.scatterplot(x='X1', y='X2', hue = 'y', data=df)\n",
    "plt.show()"
   ]
  },
  {
   "cell_type": "code",
   "execution_count": null,
   "metadata": {
    "colab": {
     "base_uri": "https://localhost:8080/"
    },
    "id": "GfMWP8lofqno",
    "outputId": "e88cc10d-8f58-4756-8b7b-98ecab96a4b6"
   },
   "outputs": [],
   "source": [
    "from sklearn.utils import resample\n",
    "df_majority = df[df['y']== 0]\n",
    "df_minority = df[df['y']== 1]\n",
    "\n",
    "df_minority_upsampled = resample(df_minority, replace=True,n_samples=3000,random_state=100)\n",
    "df_majority_upsampled = resample(df_majority, replace=True,n_samples=3000,random_state=100)\n",
    "\n",
    "df_balanced = pd.concat([df_minority_upsampled,df_majority_upsampled])\n",
    "\n",
    "# Display new class counts\n",
    "df_balanced['y'].value_counts()"
   ]
  },
  {
   "cell_type": "code",
   "execution_count": null,
   "metadata": {
    "id": "3wB2_rWHkpmq"
   },
   "outputs": [],
   "source": [
    "df= df_balanced"
   ]
  },
  {
   "cell_type": "code",
   "execution_count": 43,
   "metadata": {
    "colab": {
     "base_uri": "https://localhost:8080/",
     "height": 423
    },
    "id": "0KEl5w_8kzTQ",
    "outputId": "0fc3ba36-06a6-4237-e64b-597d2f6522a3"
   },
   "outputs": [
    {
     "data": {
      "text/html": [
       "<div>\n",
       "<style scoped>\n",
       "    .dataframe tbody tr th:only-of-type {\n",
       "        vertical-align: middle;\n",
       "    }\n",
       "\n",
       "    .dataframe tbody tr th {\n",
       "        vertical-align: top;\n",
       "    }\n",
       "\n",
       "    .dataframe thead th {\n",
       "        text-align: right;\n",
       "    }\n",
       "</style>\n",
       "<table border=\"1\" class=\"dataframe\">\n",
       "  <thead>\n",
       "    <tr style=\"text-align: right;\">\n",
       "      <th></th>\n",
       "      <th>X1</th>\n",
       "      <th>X2</th>\n",
       "      <th>X3</th>\n",
       "      <th>X4</th>\n",
       "      <th>X5</th>\n",
       "      <th>X6</th>\n",
       "      <th>X7</th>\n",
       "      <th>X8</th>\n",
       "      <th>X9</th>\n",
       "      <th>X10</th>\n",
       "      <th>...</th>\n",
       "      <th>X170</th>\n",
       "      <th>X171</th>\n",
       "      <th>X172</th>\n",
       "      <th>X173</th>\n",
       "      <th>X174</th>\n",
       "      <th>X175</th>\n",
       "      <th>X176</th>\n",
       "      <th>X177</th>\n",
       "      <th>X178</th>\n",
       "      <th>y</th>\n",
       "    </tr>\n",
       "  </thead>\n",
       "  <tbody>\n",
       "    <tr>\n",
       "      <th>7711</th>\n",
       "      <td>-109</td>\n",
       "      <td>-142</td>\n",
       "      <td>-169</td>\n",
       "      <td>-191</td>\n",
       "      <td>-219</td>\n",
       "      <td>-216</td>\n",
       "      <td>-213</td>\n",
       "      <td>-213</td>\n",
       "      <td>-214</td>\n",
       "      <td>-235</td>\n",
       "      <td>...</td>\n",
       "      <td>-275</td>\n",
       "      <td>-244</td>\n",
       "      <td>-183</td>\n",
       "      <td>-124</td>\n",
       "      <td>-63</td>\n",
       "      <td>84</td>\n",
       "      <td>207</td>\n",
       "      <td>305</td>\n",
       "      <td>312</td>\n",
       "      <td>1</td>\n",
       "    </tr>\n",
       "    <tr>\n",
       "      <th>9335</th>\n",
       "      <td>-222</td>\n",
       "      <td>-188</td>\n",
       "      <td>-106</td>\n",
       "      <td>4</td>\n",
       "      <td>114</td>\n",
       "      <td>200</td>\n",
       "      <td>220</td>\n",
       "      <td>174</td>\n",
       "      <td>69</td>\n",
       "      <td>-47</td>\n",
       "      <td>...</td>\n",
       "      <td>-126</td>\n",
       "      <td>-74</td>\n",
       "      <td>-12</td>\n",
       "      <td>59</td>\n",
       "      <td>130</td>\n",
       "      <td>144</td>\n",
       "      <td>119</td>\n",
       "      <td>34</td>\n",
       "      <td>-58</td>\n",
       "      <td>1</td>\n",
       "    </tr>\n",
       "    <tr>\n",
       "      <th>377</th>\n",
       "      <td>283</td>\n",
       "      <td>414</td>\n",
       "      <td>206</td>\n",
       "      <td>-65</td>\n",
       "      <td>-364</td>\n",
       "      <td>-504</td>\n",
       "      <td>-566</td>\n",
       "      <td>-560</td>\n",
       "      <td>-486</td>\n",
       "      <td>-335</td>\n",
       "      <td>...</td>\n",
       "      <td>40</td>\n",
       "      <td>-3</td>\n",
       "      <td>-101</td>\n",
       "      <td>-198</td>\n",
       "      <td>-364</td>\n",
       "      <td>-568</td>\n",
       "      <td>-668</td>\n",
       "      <td>-460</td>\n",
       "      <td>-108</td>\n",
       "      <td>1</td>\n",
       "    </tr>\n",
       "    <tr>\n",
       "      <th>9727</th>\n",
       "      <td>371</td>\n",
       "      <td>271</td>\n",
       "      <td>132</td>\n",
       "      <td>39</td>\n",
       "      <td>-48</td>\n",
       "      <td>-103</td>\n",
       "      <td>-118</td>\n",
       "      <td>-188</td>\n",
       "      <td>-338</td>\n",
       "      <td>-516</td>\n",
       "      <td>...</td>\n",
       "      <td>-510</td>\n",
       "      <td>-416</td>\n",
       "      <td>-225</td>\n",
       "      <td>88</td>\n",
       "      <td>342</td>\n",
       "      <td>628</td>\n",
       "      <td>696</td>\n",
       "      <td>624</td>\n",
       "      <td>402</td>\n",
       "      <td>1</td>\n",
       "    </tr>\n",
       "    <tr>\n",
       "      <th>1751</th>\n",
       "      <td>135</td>\n",
       "      <td>134</td>\n",
       "      <td>136</td>\n",
       "      <td>139</td>\n",
       "      <td>142</td>\n",
       "      <td>145</td>\n",
       "      <td>147</td>\n",
       "      <td>147</td>\n",
       "      <td>148</td>\n",
       "      <td>150</td>\n",
       "      <td>...</td>\n",
       "      <td>-98</td>\n",
       "      <td>-173</td>\n",
       "      <td>-267</td>\n",
       "      <td>-431</td>\n",
       "      <td>-556</td>\n",
       "      <td>-645</td>\n",
       "      <td>-662</td>\n",
       "      <td>-648</td>\n",
       "      <td>-569</td>\n",
       "      <td>1</td>\n",
       "    </tr>\n",
       "    <tr>\n",
       "      <th>...</th>\n",
       "      <td>...</td>\n",
       "      <td>...</td>\n",
       "      <td>...</td>\n",
       "      <td>...</td>\n",
       "      <td>...</td>\n",
       "      <td>...</td>\n",
       "      <td>...</td>\n",
       "      <td>...</td>\n",
       "      <td>...</td>\n",
       "      <td>...</td>\n",
       "      <td>...</td>\n",
       "      <td>...</td>\n",
       "      <td>...</td>\n",
       "      <td>...</td>\n",
       "      <td>...</td>\n",
       "      <td>...</td>\n",
       "      <td>...</td>\n",
       "      <td>...</td>\n",
       "      <td>...</td>\n",
       "      <td>...</td>\n",
       "      <td>...</td>\n",
       "    </tr>\n",
       "    <tr>\n",
       "      <th>1397</th>\n",
       "      <td>-36</td>\n",
       "      <td>-9</td>\n",
       "      <td>-4</td>\n",
       "      <td>-10</td>\n",
       "      <td>-17</td>\n",
       "      <td>-15</td>\n",
       "      <td>-22</td>\n",
       "      <td>-13</td>\n",
       "      <td>-18</td>\n",
       "      <td>-33</td>\n",
       "      <td>...</td>\n",
       "      <td>26</td>\n",
       "      <td>-1</td>\n",
       "      <td>-20</td>\n",
       "      <td>-48</td>\n",
       "      <td>-59</td>\n",
       "      <td>-43</td>\n",
       "      <td>-25</td>\n",
       "      <td>-15</td>\n",
       "      <td>-16</td>\n",
       "      <td>0</td>\n",
       "    </tr>\n",
       "    <tr>\n",
       "      <th>9045</th>\n",
       "      <td>43</td>\n",
       "      <td>48</td>\n",
       "      <td>46</td>\n",
       "      <td>38</td>\n",
       "      <td>29</td>\n",
       "      <td>13</td>\n",
       "      <td>1</td>\n",
       "      <td>1</td>\n",
       "      <td>-1</td>\n",
       "      <td>7</td>\n",
       "      <td>...</td>\n",
       "      <td>10</td>\n",
       "      <td>38</td>\n",
       "      <td>53</td>\n",
       "      <td>53</td>\n",
       "      <td>56</td>\n",
       "      <td>46</td>\n",
       "      <td>30</td>\n",
       "      <td>6</td>\n",
       "      <td>-18</td>\n",
       "      <td>0</td>\n",
       "    </tr>\n",
       "    <tr>\n",
       "      <th>5984</th>\n",
       "      <td>12</td>\n",
       "      <td>17</td>\n",
       "      <td>9</td>\n",
       "      <td>-8</td>\n",
       "      <td>-8</td>\n",
       "      <td>14</td>\n",
       "      <td>49</td>\n",
       "      <td>80</td>\n",
       "      <td>74</td>\n",
       "      <td>30</td>\n",
       "      <td>...</td>\n",
       "      <td>-11</td>\n",
       "      <td>-6</td>\n",
       "      <td>4</td>\n",
       "      <td>15</td>\n",
       "      <td>26</td>\n",
       "      <td>23</td>\n",
       "      <td>4</td>\n",
       "      <td>11</td>\n",
       "      <td>34</td>\n",
       "      <td>0</td>\n",
       "    </tr>\n",
       "    <tr>\n",
       "      <th>4595</th>\n",
       "      <td>-73</td>\n",
       "      <td>-68</td>\n",
       "      <td>-64</td>\n",
       "      <td>-56</td>\n",
       "      <td>-46</td>\n",
       "      <td>-41</td>\n",
       "      <td>-30</td>\n",
       "      <td>-21</td>\n",
       "      <td>-14</td>\n",
       "      <td>-13</td>\n",
       "      <td>...</td>\n",
       "      <td>19</td>\n",
       "      <td>27</td>\n",
       "      <td>47</td>\n",
       "      <td>55</td>\n",
       "      <td>69</td>\n",
       "      <td>65</td>\n",
       "      <td>46</td>\n",
       "      <td>40</td>\n",
       "      <td>30</td>\n",
       "      <td>0</td>\n",
       "    </tr>\n",
       "    <tr>\n",
       "      <th>11486</th>\n",
       "      <td>7</td>\n",
       "      <td>-28</td>\n",
       "      <td>-46</td>\n",
       "      <td>-45</td>\n",
       "      <td>-31</td>\n",
       "      <td>2</td>\n",
       "      <td>17</td>\n",
       "      <td>12</td>\n",
       "      <td>-2</td>\n",
       "      <td>-34</td>\n",
       "      <td>...</td>\n",
       "      <td>39</td>\n",
       "      <td>72</td>\n",
       "      <td>97</td>\n",
       "      <td>111</td>\n",
       "      <td>77</td>\n",
       "      <td>1</td>\n",
       "      <td>-53</td>\n",
       "      <td>-80</td>\n",
       "      <td>-108</td>\n",
       "      <td>0</td>\n",
       "    </tr>\n",
       "  </tbody>\n",
       "</table>\n",
       "<p>6000 rows × 179 columns</p>\n",
       "</div>"
      ],
      "text/plain": [
       "        X1   X2   X3   X4   X5   X6   X7   X8   X9  X10  ...  X170  X171  \\\n",
       "7711  -109 -142 -169 -191 -219 -216 -213 -213 -214 -235  ...  -275  -244   \n",
       "9335  -222 -188 -106    4  114  200  220  174   69  -47  ...  -126   -74   \n",
       "377    283  414  206  -65 -364 -504 -566 -560 -486 -335  ...    40    -3   \n",
       "9727   371  271  132   39  -48 -103 -118 -188 -338 -516  ...  -510  -416   \n",
       "1751   135  134  136  139  142  145  147  147  148  150  ...   -98  -173   \n",
       "...    ...  ...  ...  ...  ...  ...  ...  ...  ...  ...  ...   ...   ...   \n",
       "1397   -36   -9   -4  -10  -17  -15  -22  -13  -18  -33  ...    26    -1   \n",
       "9045    43   48   46   38   29   13    1    1   -1    7  ...    10    38   \n",
       "5984    12   17    9   -8   -8   14   49   80   74   30  ...   -11    -6   \n",
       "4595   -73  -68  -64  -56  -46  -41  -30  -21  -14  -13  ...    19    27   \n",
       "11486    7  -28  -46  -45  -31    2   17   12   -2  -34  ...    39    72   \n",
       "\n",
       "       X172  X173  X174  X175  X176  X177  X178  y  \n",
       "7711   -183  -124   -63    84   207   305   312  1  \n",
       "9335    -12    59   130   144   119    34   -58  1  \n",
       "377    -101  -198  -364  -568  -668  -460  -108  1  \n",
       "9727   -225    88   342   628   696   624   402  1  \n",
       "1751   -267  -431  -556  -645  -662  -648  -569  1  \n",
       "...     ...   ...   ...   ...   ...   ...   ... ..  \n",
       "1397    -20   -48   -59   -43   -25   -15   -16  0  \n",
       "9045     53    53    56    46    30     6   -18  0  \n",
       "5984      4    15    26    23     4    11    34  0  \n",
       "4595     47    55    69    65    46    40    30  0  \n",
       "11486    97   111    77     1   -53   -80  -108  0  \n",
       "\n",
       "[6000 rows x 179 columns]"
      ]
     },
     "execution_count": 43,
     "metadata": {},
     "output_type": "execute_result"
    }
   ],
   "source": [
    "df"
   ]
  },
  {
   "cell_type": "code",
   "execution_count": 45,
   "metadata": {
    "colab": {
     "base_uri": "https://localhost:8080/",
     "height": 545
    },
    "id": "_aG29jclk0Jv",
    "outputId": "00bb72b7-f1e8-458b-f572-61c37bf5a126"
   },
   "outputs": [
    {
     "data": {
      "image/png": "[encoded data removed]",
      "text/plain": [
       "<Figure size 1000x600 with 1 Axes>"
      ]
     },
     "metadata": {},
     "output_type": "display_data"
    }
   ],
   "source": [
    "plt.figure(figsize=(10,6),dpi=100)\n",
    "sns.despine(left=True)\n",
    "sns.scatterplot(x='X1', y='X2', hue = 'y', data=df)\n",
    "plt.show()"
   ]
  },
  {
   "cell_type": "code",
   "execution_count": 46,
   "metadata": {
    "id": "HBCRhgxfk5gw"
   },
   "outputs": [],
   "source": [
    "x = df.drop(columns=['y'])\n",
    "y = df['y']"
   ]
  },
  {
   "cell_type": "code",
   "execution_count": 49,
   "metadata": {
    "id": "DRjNF5Cok_0h"
   },
   "outputs": [],
   "source": [
    "from sklearn.model_selection import train_test_split\n",
    "x_train,x_test,y_train,y_test=train_test_split(x,y,test_size=0.3,random_state=100)\n",
    "\n",
    "from sklearn.preprocessing import StandardScaler\n",
    "scaler=StandardScaler()\n",
    "x_train=scaler.fit_transform(x_train)\n",
    "x_test=scaler.transform(x_test)"
   ]
  },
  {
   "cell_type": "code",
   "execution_count": 51,
   "metadata": {
    "colab": {
     "base_uri": "https://localhost:8080/"
    },
    "id": "Dr5A0dbLlEQQ",
    "outputId": "03ea4d6f-7c5a-408e-e19d-ba1a2e4b6be5"
   },
   "outputs": [
    {
     "data": {
      "text/plain": [
       "(4200, 178)"
      ]
     },
     "execution_count": 51,
     "metadata": {},
     "output_type": "execute_result"
    }
   ],
   "source": [
    "x_train.shape"
   ]
  },
  {
   "cell_type": "code",
   "execution_count": 53,
   "metadata": {
    "colab": {
     "base_uri": "https://localhost:8080/"
    },
    "id": "pE2f-4UklIIQ",
    "outputId": "f2617a6b-bf35-4189-f5bd-a463aab01fc7"
   },
   "outputs": [
    {
     "data": {
      "text/plain": [
       "(1800, 178)"
      ]
     },
     "execution_count": 53,
     "metadata": {},
     "output_type": "execute_result"
    }
   ],
   "source": [
    "x_test.shape"
   ]
  },
  {
   "cell_type": "code",
   "execution_count": 57,
   "metadata": {
    "id": "WzbiTn7-lJwQ"
   },
   "outputs": [],
   "source": [
    "pd.DataFrame(x_test).to_csv(r\"C:\\Users\\HP\\Desktop\\ITML22- Epileptic Seizure Prediction\\DATASET\\Epileptic Seizure Recognition (2).csv\",index=False)"
   ]
  },
  {
   "cell_type": "markdown",
   "metadata": {
    "id": "IzGV30dYFft7"
   },
   "source": [
    "## **LSTM**"
   ]
  },
  {
   "cell_type": "code",
   "execution_count": 60,
   "metadata": {
    "id": "MHS06paolOsQ"
   },
   "outputs": [],
   "source": [
    "model = Sequential()\n",
    "model.add(Input(shape=(178,1)))\n",
    "model.add(LSTM(32,return_sequences=True))\n",
    "model.add(LSTM(16,return_sequences=True))\n",
    "model.add(LSTM(8))\n",
    "model.add(Flatten())\n",
    "model.add(Dense(250, activation='relu'))\n",
    "model.add(Dense(1, activation='sigmoid'))\n",
    "model.compile(loss='binary_crossentropy', optimizer='adam', metrics=['accuracy'])"
   ]
  },
  {
   "cell_type": "code",
   "execution_count": 62,
   "metadata": {
    "colab": {
     "base_uri": "https://localhost:8080/"
    },
    "id": "Wg7sLZQyXuc6",
    "outputId": "fc0697e4-f211-41c0-b06c-7cf2001f239e"
   },
   "outputs": [
    {
     "data": {
      "text/html": [
       "<pre style=\"white-space:pre;overflow-x:auto;line-height:normal;font-family:Menlo,'DejaVu Sans Mono',consolas,'Courier New',monospace\"><span style=\"font-weight: bold\">Model: \"sequential\"</span>\n",
       "</pre>\n"
      ],
      "text/plain": [
       "\u001b[1mModel: \"sequential\"\u001b[0m\n"
      ]
     },
     "metadata": {},
     "output_type": "display_data"
    },
    {
     "data": {
      "text/html": [
       "<pre style=\"white-space:pre;overflow-x:auto;line-height:normal;font-family:Menlo,'DejaVu Sans Mono',consolas,'Courier New',monospace\">┏━━━━━━━━━━━━━━━━━━━━━━━━━━━━━━━━━━━━━━┳━━━━━━━━━━━━━━━━━━━━━━━━━━━━━┳━━━━━━━━━━━━━━━━━┓\n",
       "┃<span style=\"font-weight: bold\"> Layer (type)                         </span>┃<span style=\"font-weight: bold\"> Output Shape                </span>┃<span style=\"font-weight: bold\">         Param # </span>┃\n",
       "┡━━━━━━━━━━━━━━━━━━━━━━━━━━━━━━━━━━━━━━╇━━━━━━━━━━━━━━━━━━━━━━━━━━━━━╇━━━━━━━━━━━━━━━━━┩\n",
       "│ lstm (<span style=\"color: #0087ff; text-decoration-color: #0087ff\">LSTM</span>)                          │ (<span style=\"color: #00d7ff; text-decoration-color: #00d7ff\">None</span>, <span style=\"color: #00af00; text-decoration-color: #00af00\">178</span>, <span style=\"color: #00af00; text-decoration-color: #00af00\">32</span>)             │           <span style=\"color: #00af00; text-decoration-color: #00af00\">4,352</span> │\n",
       "├──────────────────────────────────────┼─────────────────────────────┼─────────────────┤\n",
       "│ lstm_1 (<span style=\"color: #0087ff; text-decoration-color: #0087ff\">LSTM</span>)                        │ (<span style=\"color: #00d7ff; text-decoration-color: #00d7ff\">None</span>, <span style=\"color: #00af00; text-decoration-color: #00af00\">178</span>, <span style=\"color: #00af00; text-decoration-color: #00af00\">16</span>)             │           <span style=\"color: #00af00; text-decoration-color: #00af00\">3,136</span> │\n",
       "├──────────────────────────────────────┼─────────────────────────────┼─────────────────┤\n",
       "│ lstm_2 (<span style=\"color: #0087ff; text-decoration-color: #0087ff\">LSTM</span>)                        │ (<span style=\"color: #00d7ff; text-decoration-color: #00d7ff\">None</span>, <span style=\"color: #00af00; text-decoration-color: #00af00\">8</span>)                   │             <span style=\"color: #00af00; text-decoration-color: #00af00\">800</span> │\n",
       "├──────────────────────────────────────┼─────────────────────────────┼─────────────────┤\n",
       "│ flatten (<span style=\"color: #0087ff; text-decoration-color: #0087ff\">Flatten</span>)                    │ (<span style=\"color: #00d7ff; text-decoration-color: #00d7ff\">None</span>, <span style=\"color: #00af00; text-decoration-color: #00af00\">8</span>)                   │               <span style=\"color: #00af00; text-decoration-color: #00af00\">0</span> │\n",
       "├──────────────────────────────────────┼─────────────────────────────┼─────────────────┤\n",
       "│ dense (<span style=\"color: #0087ff; text-decoration-color: #0087ff\">Dense</span>)                        │ (<span style=\"color: #00d7ff; text-decoration-color: #00d7ff\">None</span>, <span style=\"color: #00af00; text-decoration-color: #00af00\">250</span>)                 │           <span style=\"color: #00af00; text-decoration-color: #00af00\">2,250</span> │\n",
       "├──────────────────────────────────────┼─────────────────────────────┼─────────────────┤\n",
       "│ dense_1 (<span style=\"color: #0087ff; text-decoration-color: #0087ff\">Dense</span>)                      │ (<span style=\"color: #00d7ff; text-decoration-color: #00d7ff\">None</span>, <span style=\"color: #00af00; text-decoration-color: #00af00\">1</span>)                   │             <span style=\"color: #00af00; text-decoration-color: #00af00\">251</span> │\n",
       "└──────────────────────────────────────┴─────────────────────────────┴─────────────────┘\n",
       "</pre>\n"
      ],
      "text/plain": [
       "┏━━━━━━━━━━━━━━━━━━━━━━━━━━━━━━━━━━━━━━┳━━━━━━━━━━━━━━━━━━━━━━━━━━━━━┳━━━━━━━━━━━━━━━━━┓\n",
       "┃\u001b[1m \u001b[0m\u001b[1mLayer (type)                        \u001b[0m\u001b[1m \u001b[0m┃\u001b[1m \u001b[0m\u001b[1mOutput Shape               \u001b[0m\u001b[1m \u001b[0m┃\u001b[1m \u001b[0m\u001b[1m        Param #\u001b[0m\u001b[1m \u001b[0m┃\n",
       "┡━━━━━━━━━━━━━━━━━━━━━━━━━━━━━━━━━━━━━━╇━━━━━━━━━━━━━━━━━━━━━━━━━━━━━╇━━━━━━━━━━━━━━━━━┩\n",
       "│ lstm (\u001b[38;5;33mLSTM\u001b[0m)                          │ (\u001b[38;5;45mNone\u001b[0m, \u001b[38;5;34m178\u001b[0m, \u001b[38;5;34m32\u001b[0m)             │           \u001b[38;5;34m4,352\u001b[0m │\n",
       "├──────────────────────────────────────┼─────────────────────────────┼─────────────────┤\n",
       "│ lstm_1 (\u001b[38;5;33mLSTM\u001b[0m)                        │ (\u001b[38;5;45mNone\u001b[0m, \u001b[38;5;34m178\u001b[0m, \u001b[38;5;34m16\u001b[0m)             │           \u001b[38;5;34m3,136\u001b[0m │\n",
       "├──────────────────────────────────────┼─────────────────────────────┼─────────────────┤\n",
       "│ lstm_2 (\u001b[38;5;33mLSTM\u001b[0m)                        │ (\u001b[38;5;45mNone\u001b[0m, \u001b[38;5;34m8\u001b[0m)                   │             \u001b[38;5;34m800\u001b[0m │\n",
       "├──────────────────────────────────────┼─────────────────────────────┼─────────────────┤\n",
       "│ flatten (\u001b[38;5;33mFlatten\u001b[0m)                    │ (\u001b[38;5;45mNone\u001b[0m, \u001b[38;5;34m8\u001b[0m)                   │               \u001b[38;5;34m0\u001b[0m │\n",
       "├──────────────────────────────────────┼─────────────────────────────┼─────────────────┤\n",
       "│ dense (\u001b[38;5;33mDense\u001b[0m)                        │ (\u001b[38;5;45mNone\u001b[0m, \u001b[38;5;34m250\u001b[0m)                 │           \u001b[38;5;34m2,250\u001b[0m │\n",
       "├──────────────────────────────────────┼─────────────────────────────┼─────────────────┤\n",
       "│ dense_1 (\u001b[38;5;33mDense\u001b[0m)                      │ (\u001b[38;5;45mNone\u001b[0m, \u001b[38;5;34m1\u001b[0m)                   │             \u001b[38;5;34m251\u001b[0m │\n",
       "└──────────────────────────────────────┴─────────────────────────────┴─────────────────┘\n"
      ]
     },
     "metadata": {},
     "output_type": "display_data"
    },
    {
     "data": {
      "text/html": [
       "<pre style=\"white-space:pre;overflow-x:auto;line-height:normal;font-family:Menlo,'DejaVu Sans Mono',consolas,'Courier New',monospace\"><span style=\"font-weight: bold\"> Total params: </span><span style=\"color: #00af00; text-decoration-color: #00af00\">10,789</span> (42.14 KB)\n",
       "</pre>\n"
      ],
      "text/plain": [
       "\u001b[1m Total params: \u001b[0m\u001b[38;5;34m10,789\u001b[0m (42.14 KB)\n"
      ]
     },
     "metadata": {},
     "output_type": "display_data"
    },
    {
     "data": {
      "text/html": [
       "<pre style=\"white-space:pre;overflow-x:auto;line-height:normal;font-family:Menlo,'DejaVu Sans Mono',consolas,'Courier New',monospace\"><span style=\"font-weight: bold\"> Trainable params: </span><span style=\"color: #00af00; text-decoration-color: #00af00\">10,789</span> (42.14 KB)\n",
       "</pre>\n"
      ],
      "text/plain": [
       "\u001b[1m Trainable params: \u001b[0m\u001b[38;5;34m10,789\u001b[0m (42.14 KB)\n"
      ]
     },
     "metadata": {},
     "output_type": "display_data"
    },
    {
     "data": {
      "text/html": [
       "<pre style=\"white-space:pre;overflow-x:auto;line-height:normal;font-family:Menlo,'DejaVu Sans Mono',consolas,'Courier New',monospace\"><span style=\"font-weight: bold\"> Non-trainable params: </span><span style=\"color: #00af00; text-decoration-color: #00af00\">0</span> (0.00 B)\n",
       "</pre>\n"
      ],
      "text/plain": [
       "\u001b[1m Non-trainable params: \u001b[0m\u001b[38;5;34m0\u001b[0m (0.00 B)\n"
      ]
     },
     "metadata": {},
     "output_type": "display_data"
    }
   ],
   "source": [
    "model.summary()"
   ]
  },
  {
   "cell_type": "code",
   "execution_count": 64,
   "metadata": {
    "colab": {
     "base_uri": "https://localhost:8080/"
    },
    "id": "FlaNNKOOmgs-",
    "outputId": "29b04165-cf2d-4e4b-c3d7-1cfec1ef8945"
   },
   "outputs": [
    {
     "name": "stdout",
     "output_type": "stream",
     "text": [
      "Epoch 1/10\n",
      "33/33 - 15s - 457ms/step - accuracy: 0.8564 - loss: 0.5833 - val_accuracy: 0.9289 - val_loss: 0.3298\n",
      "Epoch 2/10\n",
      "33/33 - 9s - 279ms/step - accuracy: 0.9160 - loss: 0.2909 - val_accuracy: 0.8961 - val_loss: 0.3127\n",
      "Epoch 3/10\n",
      "33/33 - 10s - 310ms/step - accuracy: 0.9279 - loss: 0.2454 - val_accuracy: 0.9539 - val_loss: 0.1770\n",
      "Epoch 4/10\n",
      "33/33 - 6s - 170ms/step - accuracy: 0.9545 - loss: 0.1566 - val_accuracy: 0.9683 - val_loss: 0.1210\n",
      "Epoch 5/10\n",
      "33/33 - 5s - 161ms/step - accuracy: 0.9605 - loss: 0.1286 - val_accuracy: 0.9678 - val_loss: 0.1027\n",
      "Epoch 6/10\n",
      "33/33 - 5s - 166ms/step - accuracy: 0.9643 - loss: 0.1129 - val_accuracy: 0.9694 - val_loss: 0.0982\n",
      "Epoch 7/10\n",
      "33/33 - 10s - 305ms/step - accuracy: 0.9667 - loss: 0.1034 - val_accuracy: 0.9711 - val_loss: 0.0983\n",
      "Epoch 8/10\n",
      "33/33 - 10s - 314ms/step - accuracy: 0.9688 - loss: 0.0950 - val_accuracy: 0.9728 - val_loss: 0.0923\n",
      "Epoch 9/10\n",
      "33/33 - 10s - 311ms/step - accuracy: 0.9693 - loss: 0.0900 - val_accuracy: 0.9756 - val_loss: 0.0834\n",
      "Epoch 10/10\n",
      "33/33 - 5s - 161ms/step - accuracy: 0.9700 - loss: 0.0858 - val_accuracy: 0.9656 - val_loss: 0.0889\n"
     ]
    }
   ],
   "source": [
    "History_1 = model.fit(x_train, y_train, validation_data=(x_test,y_test), epochs=10, batch_size=128, verbose=2)"
   ]
  },
  {
   "cell_type": "code",
   "execution_count": 65,
   "metadata": {
    "colab": {
     "base_uri": "https://localhost:8080/",
     "height": 430
    },
    "id": "umtfaOfTnHH6",
    "outputId": "cfe07344-f35a-419b-bdaf-f356ea644210"
   },
   "outputs": [
    {
     "data": {
      "image/png": "[encoded data removed]",
      "text/plain": [
       "<Figure size 640x480 with 1 Axes>"
      ]
     },
     "metadata": {},
     "output_type": "display_data"
    }
   ],
   "source": [
    "# plot the accuracy plot\n",
    "plt.plot(History_1.history['accuracy'], 'r')\n",
    "plt.plot(History_1.history['val_accuracy'], 'b')\n",
    "plt.legend({'Train Accuracy': 'r', 'Test Accuracy':'b'})\n",
    "plt.show()"
   ]
  },
  {
   "cell_type": "code",
   "execution_count": 66,
   "metadata": {
    "colab": {
     "base_uri": "https://localhost:8080/"
    },
    "id": "C2m-As_6d_Uf",
    "outputId": "bb9d826d-8b83-4060-ce0e-267fb09c6ef0"
   },
   "outputs": [
    {
     "name": "stdout",
     "output_type": "stream",
     "text": [
      "\u001b[1m57/57\u001b[0m \u001b[32m━━━━━━━━━━━━━━━━━━━━\u001b[0m\u001b[37m\u001b[0m \u001b[1m3s\u001b[0m 42ms/step\n",
      "Classification Report:\n",
      "              precision    recall  f1-score   support\n",
      "\n",
      "           0       0.96      0.97      0.97       885\n",
      "           1       0.97      0.97      0.97       915\n",
      "\n",
      "    accuracy                           0.97      1800\n",
      "   macro avg       0.97      0.97      0.97      1800\n",
      "weighted avg       0.97      0.97      0.97      1800\n",
      "\n"
     ]
    }
   ],
   "source": [
    "from sklearn.metrics import classification_report,confusion_matrix\n",
    "y_pred = model.predict(x_test)\n",
    "y_pred_binary = np.round(y_pred)\n",
    "class_report = classification_report(y_test, y_pred_binary)\n",
    "\n",
    "print(\"Classification Report:\")\n",
    "print(class_report)"
   ]
  },
  {
   "cell_type": "code",
   "execution_count": 67,
   "metadata": {},
   "outputs": [],
   "source": [
    "#pip install pydot\n"
   ]
  },
  {
   "cell_type": "code",
   "execution_count": 68,
   "metadata": {
    "colab": {
     "base_uri": "https://localhost:8080/",
     "height": 555
    },
    "id": "_epi10m0obeI",
    "outputId": "0c945ee3-332c-4707-c772-2ff1feb82949"
   },
   "outputs": [
    {
     "name": "stdout",
     "output_type": "stream",
     "text": [
      "You must install pydot (`pip install pydot`) for `plot_model` to work.\n"
     ]
    }
   ],
   "source": [
    "from keras.utils import plot_model\n",
    "plot_model(model, show_shapes=True, dpi=70)"
   ]
  },
  {
   "cell_type": "code",
   "execution_count": 69,
   "metadata": {
    "colab": {
     "base_uri": "https://localhost:8080/"
    },
    "id": "A0eGTWui_oeN",
    "outputId": "99758a8c-119b-4f88-bdd1-8c52fa3d917b"
   },
   "outputs": [
    {
     "name": "stdout",
     "output_type": "stream",
     "text": [
      "\u001b[1m57/57\u001b[0m \u001b[32m━━━━━━━━━━━━━━━━━━━━\u001b[0m\u001b[37m\u001b[0m \u001b[1m2s\u001b[0m 30ms/step - accuracy: 0.9642 - loss: 0.0856\n"
     ]
    }
   ],
   "source": [
    "loss,accuracy=model.evaluate(x_test, y_test)"
   ]
  },
  {
   "cell_type": "code",
   "execution_count": 70,
   "metadata": {},
   "outputs": [
    {
     "data": {
      "text/plain": [
       "(0.08894454687833786, 0.9655555486679077)"
      ]
     },
     "execution_count": 70,
     "metadata": {},
     "output_type": "execute_result"
    }
   ],
   "source": [
    "loss,accuracy"
   ]
  },
  {
   "cell_type": "code",
   "execution_count": 71,
   "metadata": {
    "colab": {
     "base_uri": "https://localhost:8080/",
     "height": 524
    },
    "id": "DqQMdx8CjZhg",
    "outputId": "4f38208e-cad1-4ce0-e789-6ea04baa6a76"
   },
   "outputs": [
    {
     "name": "stdout",
     "output_type": "stream",
     "text": [
      "Confusion Matrix:\n",
      "[[855  30]\n",
      " [ 32 883]]\n"
     ]
    },
    {
     "data": {
      "image/png": "[encoded data removed]",
      "text/plain": [
       "<Figure size 640x480 with 2 Axes>"
      ]
     },
     "metadata": {},
     "output_type": "display_data"
    }
   ],
   "source": [
    "from sklearn.metrics import classification_report,confusion_matrix\n",
    "# Generate and print the confusion matrix\n",
    "cm = confusion_matrix(y_test, y_pred_binary)\n",
    "print('Confusion Matrix:')\n",
    "print(cm)\n",
    "\n",
    "# Plot the confusion matrix\n",
    "plt.imshow(cm, interpolation='nearest', cmap=plt.cm.Blues)\n",
    "plt.title('Confusion Matrix')\n",
    "plt.colorbar()\n",
    "\n",
    "classes = ['No Seizure', 'Seizure']  # Assuming binary classification\n",
    "tick_marks = np.arange(len(classes))\n",
    "plt.xticks(tick_marks, classes)\n",
    "plt.yticks(tick_marks, classes)\n",
    "\n",
    "plt.xlabel('Predicted Label')\n",
    "plt.ylabel('True Label')\n",
    "\n",
    "# Add text annotations to each cell\n",
    "for i in range(len(classes)):\n",
    "    for j in range(len(classes)):\n",
    "        plt.text(j, i, str(cm[i, j]), ha='center', va='center')\n"
   ]
  },
  {
   "cell_type": "code",
   "execution_count": 76,
   "metadata": {
    "colab": {
     "base_uri": "https://localhost:8080/",
     "height": 718
    },
    "id": "ioG1gyhWmVYn",
    "outputId": "3ba850ad-6bdc-4ed2-b06b-043c9a0d2bd2"
   },
   "outputs": [
    {
     "data": {
      "image/png": "[encoded data removed]",
      "text/plain": [
       "<Figure size 800x800 with 1 Axes>"
      ]
     },
     "metadata": {},
     "output_type": "display_data"
    }
   ],
   "source": [
    "from sklearn.metrics import roc_curve, auc\n",
    "\n",
    "# Compute ROC curve and AUC\n",
    "fpr, tpr, thresholds = roc_curve(y_test, y_pred)\n",
    "roc_auc = auc(fpr, tpr)\n",
    "\n",
    "# Plot ROC curve\n",
    "plt.figure(figsize=(8, 8))\n",
    "plt.plot(fpr, tpr, color='darkorange', lw=2, label=f'AUC = {roc_auc:.2f}')\n",
    "plt.plot([0, 1], [0, 1], color='navy', lw=2, linestyle='--')\n",
    "plt.xlabel('False Positive Rate')\n",
    "plt.ylabel('True Positive Rate')\n",
    "plt.title('Receiver Operating Characteristic (ROC) Curve')\n",
    "plt.legend(loc='lower right')\n",
    "plt.show()"
   ]
  },
  {
   "cell_type": "code",
   "execution_count": 78,
   "metadata": {},
   "outputs": [
    {
     "name": "stderr",
     "output_type": "stream",
     "text": [
      "WARNING:absl:You are saving your model as an HDF5 file via `model.save()` or `keras.saving.save_model(model)`. This file format is considered legacy. We recommend using instead the native Keras format, e.g. `model.save('my_model.keras')` or `keras.saving.save_model(model, 'my_model.keras')`. \n"
     ]
    },
    {
     "name": "stdout",
     "output_type": "stream",
     "text": [
      "Model saved successfully.\n"
     ]
    }
   ],
   "source": [
    "# Assuming your trained model object is named `model`\n",
    "file_name = r'C:\\Users\\HP\\Desktop\\ITML22- Epileptic Seizure Prediction\\CODE\\FRONT END\\LSTM_model.h5'\n",
    "\n",
    "# Save the model\n",
    "model.save(file_name)\n",
    "\n",
    "print(\"Model saved successfully.\")\n"
   ]
  },
  {
   "cell_type": "markdown",
   "metadata": {
    "id": "TYy3-tmCFZCI"
   },
   "source": [
    "### CNN\n"
   ]
  },
  {
   "cell_type": "code",
   "execution_count": 81,
   "metadata": {
    "id": "mBBq-gmxohN7"
   },
   "outputs": [
    {
     "name": "stderr",
     "output_type": "stream",
     "text": [
      "C:\\Users\\HP\\anaconda3\\Lib\\site-packages\\keras\\src\\layers\\convolutional\\base_conv.py:107: UserWarning: Do not pass an `input_shape`/`input_dim` argument to a layer. When using Sequential models, prefer using an `Input(shape)` object as the first layer in the model instead.\n",
      "  super().__init__(activity_regularizer=activity_regularizer, **kwargs)\n"
     ]
    }
   ],
   "source": [
    "model1 = Sequential()\n",
    "model1.add(Conv1D(256, 3, activation='relu', input_shape=(178,1),  padding='same'))\n",
    "model1.add(MaxPool1D(2))\n",
    "model1.add(Dropout(0.2))\n",
    "model1.add(Conv1D(256, 3, activation='relu', input_shape=(178,1),  padding='same'))\n",
    "model1.add(MaxPool1D(2))\n",
    "model1.add(Dropout(0.2))\n",
    "model1.add(Flatten())\n",
    "model1.add(Dense(250, activation='relu'))\n",
    "model1.add(Dense(1, activation='sigmoid'))\n",
    "\n",
    "model1.compile(loss='binary_crossentropy', optimizer='adam', metrics=['accuracy'])"
   ]
  },
  {
   "cell_type": "code",
   "execution_count": 83,
   "metadata": {
    "colab": {
     "base_uri": "https://localhost:8080/"
    },
    "id": "HCQYlKMopnI4",
    "outputId": "303b2f2b-3335-46df-f4a7-712a954cbba1"
   },
   "outputs": [
    {
     "data": {
      "text/html": [
       "<pre style=\"white-space:pre;overflow-x:auto;line-height:normal;font-family:Menlo,'DejaVu Sans Mono',consolas,'Courier New',monospace\"><span style=\"font-weight: bold\">Model: \"sequential_1\"</span>\n",
       "</pre>\n"
      ],
      "text/plain": [
       "\u001b[1mModel: \"sequential_1\"\u001b[0m\n"
      ]
     },
     "metadata": {},
     "output_type": "display_data"
    },
    {
     "data": {
      "text/html": [
       "<pre style=\"white-space:pre;overflow-x:auto;line-height:normal;font-family:Menlo,'DejaVu Sans Mono',consolas,'Courier New',monospace\">┏━━━━━━━━━━━━━━━━━━━━━━━━━━━━━━━━━━━━━━┳━━━━━━━━━━━━━━━━━━━━━━━━━━━━━┳━━━━━━━━━━━━━━━━━┓\n",
       "┃<span style=\"font-weight: bold\"> Layer (type)                         </span>┃<span style=\"font-weight: bold\"> Output Shape                </span>┃<span style=\"font-weight: bold\">         Param # </span>┃\n",
       "┡━━━━━━━━━━━━━━━━━━━━━━━━━━━━━━━━━━━━━━╇━━━━━━━━━━━━━━━━━━━━━━━━━━━━━╇━━━━━━━━━━━━━━━━━┩\n",
       "│ conv1d (<span style=\"color: #0087ff; text-decoration-color: #0087ff\">Conv1D</span>)                      │ (<span style=\"color: #00d7ff; text-decoration-color: #00d7ff\">None</span>, <span style=\"color: #00af00; text-decoration-color: #00af00\">178</span>, <span style=\"color: #00af00; text-decoration-color: #00af00\">256</span>)            │           <span style=\"color: #00af00; text-decoration-color: #00af00\">1,024</span> │\n",
       "├──────────────────────────────────────┼─────────────────────────────┼─────────────────┤\n",
       "│ max_pooling1d (<span style=\"color: #0087ff; text-decoration-color: #0087ff\">MaxPooling1D</span>)         │ (<span style=\"color: #00d7ff; text-decoration-color: #00d7ff\">None</span>, <span style=\"color: #00af00; text-decoration-color: #00af00\">89</span>, <span style=\"color: #00af00; text-decoration-color: #00af00\">256</span>)             │               <span style=\"color: #00af00; text-decoration-color: #00af00\">0</span> │\n",
       "├──────────────────────────────────────┼─────────────────────────────┼─────────────────┤\n",
       "│ dropout (<span style=\"color: #0087ff; text-decoration-color: #0087ff\">Dropout</span>)                    │ (<span style=\"color: #00d7ff; text-decoration-color: #00d7ff\">None</span>, <span style=\"color: #00af00; text-decoration-color: #00af00\">89</span>, <span style=\"color: #00af00; text-decoration-color: #00af00\">256</span>)             │               <span style=\"color: #00af00; text-decoration-color: #00af00\">0</span> │\n",
       "├──────────────────────────────────────┼─────────────────────────────┼─────────────────┤\n",
       "│ conv1d_1 (<span style=\"color: #0087ff; text-decoration-color: #0087ff\">Conv1D</span>)                    │ (<span style=\"color: #00d7ff; text-decoration-color: #00d7ff\">None</span>, <span style=\"color: #00af00; text-decoration-color: #00af00\">89</span>, <span style=\"color: #00af00; text-decoration-color: #00af00\">256</span>)             │         <span style=\"color: #00af00; text-decoration-color: #00af00\">196,864</span> │\n",
       "├──────────────────────────────────────┼─────────────────────────────┼─────────────────┤\n",
       "│ max_pooling1d_1 (<span style=\"color: #0087ff; text-decoration-color: #0087ff\">MaxPooling1D</span>)       │ (<span style=\"color: #00d7ff; text-decoration-color: #00d7ff\">None</span>, <span style=\"color: #00af00; text-decoration-color: #00af00\">44</span>, <span style=\"color: #00af00; text-decoration-color: #00af00\">256</span>)             │               <span style=\"color: #00af00; text-decoration-color: #00af00\">0</span> │\n",
       "├──────────────────────────────────────┼─────────────────────────────┼─────────────────┤\n",
       "│ dropout_1 (<span style=\"color: #0087ff; text-decoration-color: #0087ff\">Dropout</span>)                  │ (<span style=\"color: #00d7ff; text-decoration-color: #00d7ff\">None</span>, <span style=\"color: #00af00; text-decoration-color: #00af00\">44</span>, <span style=\"color: #00af00; text-decoration-color: #00af00\">256</span>)             │               <span style=\"color: #00af00; text-decoration-color: #00af00\">0</span> │\n",
       "├──────────────────────────────────────┼─────────────────────────────┼─────────────────┤\n",
       "│ flatten_1 (<span style=\"color: #0087ff; text-decoration-color: #0087ff\">Flatten</span>)                  │ (<span style=\"color: #00d7ff; text-decoration-color: #00d7ff\">None</span>, <span style=\"color: #00af00; text-decoration-color: #00af00\">11264</span>)               │               <span style=\"color: #00af00; text-decoration-color: #00af00\">0</span> │\n",
       "├──────────────────────────────────────┼─────────────────────────────┼─────────────────┤\n",
       "│ dense_2 (<span style=\"color: #0087ff; text-decoration-color: #0087ff\">Dense</span>)                      │ (<span style=\"color: #00d7ff; text-decoration-color: #00d7ff\">None</span>, <span style=\"color: #00af00; text-decoration-color: #00af00\">250</span>)                 │       <span style=\"color: #00af00; text-decoration-color: #00af00\">2,816,250</span> │\n",
       "├──────────────────────────────────────┼─────────────────────────────┼─────────────────┤\n",
       "│ dense_3 (<span style=\"color: #0087ff; text-decoration-color: #0087ff\">Dense</span>)                      │ (<span style=\"color: #00d7ff; text-decoration-color: #00d7ff\">None</span>, <span style=\"color: #00af00; text-decoration-color: #00af00\">1</span>)                   │             <span style=\"color: #00af00; text-decoration-color: #00af00\">251</span> │\n",
       "└──────────────────────────────────────┴─────────────────────────────┴─────────────────┘\n",
       "</pre>\n"
      ],
      "text/plain": [
       "┏━━━━━━━━━━━━━━━━━━━━━━━━━━━━━━━━━━━━━━┳━━━━━━━━━━━━━━━━━━━━━━━━━━━━━┳━━━━━━━━━━━━━━━━━┓\n",
       "┃\u001b[1m \u001b[0m\u001b[1mLayer (type)                        \u001b[0m\u001b[1m \u001b[0m┃\u001b[1m \u001b[0m\u001b[1mOutput Shape               \u001b[0m\u001b[1m \u001b[0m┃\u001b[1m \u001b[0m\u001b[1m        Param #\u001b[0m\u001b[1m \u001b[0m┃\n",
       "┡━━━━━━━━━━━━━━━━━━━━━━━━━━━━━━━━━━━━━━╇━━━━━━━━━━━━━━━━━━━━━━━━━━━━━╇━━━━━━━━━━━━━━━━━┩\n",
       "│ conv1d (\u001b[38;5;33mConv1D\u001b[0m)                      │ (\u001b[38;5;45mNone\u001b[0m, \u001b[38;5;34m178\u001b[0m, \u001b[38;5;34m256\u001b[0m)            │           \u001b[38;5;34m1,024\u001b[0m │\n",
       "├──────────────────────────────────────┼─────────────────────────────┼─────────────────┤\n",
       "│ max_pooling1d (\u001b[38;5;33mMaxPooling1D\u001b[0m)         │ (\u001b[38;5;45mNone\u001b[0m, \u001b[38;5;34m89\u001b[0m, \u001b[38;5;34m256\u001b[0m)             │               \u001b[38;5;34m0\u001b[0m │\n",
       "├──────────────────────────────────────┼─────────────────────────────┼─────────────────┤\n",
       "│ dropout (\u001b[38;5;33mDropout\u001b[0m)                    │ (\u001b[38;5;45mNone\u001b[0m, \u001b[38;5;34m89\u001b[0m, \u001b[38;5;34m256\u001b[0m)             │               \u001b[38;5;34m0\u001b[0m │\n",
       "├──────────────────────────────────────┼─────────────────────────────┼─────────────────┤\n",
       "│ conv1d_1 (\u001b[38;5;33mConv1D\u001b[0m)                    │ (\u001b[38;5;45mNone\u001b[0m, \u001b[38;5;34m89\u001b[0m, \u001b[38;5;34m256\u001b[0m)             │         \u001b[38;5;34m196,864\u001b[0m │\n",
       "├──────────────────────────────────────┼─────────────────────────────┼─────────────────┤\n",
       "│ max_pooling1d_1 (\u001b[38;5;33mMaxPooling1D\u001b[0m)       │ (\u001b[38;5;45mNone\u001b[0m, \u001b[38;5;34m44\u001b[0m, \u001b[38;5;34m256\u001b[0m)             │               \u001b[38;5;34m0\u001b[0m │\n",
       "├──────────────────────────────────────┼─────────────────────────────┼─────────────────┤\n",
       "│ dropout_1 (\u001b[38;5;33mDropout\u001b[0m)                  │ (\u001b[38;5;45mNone\u001b[0m, \u001b[38;5;34m44\u001b[0m, \u001b[38;5;34m256\u001b[0m)             │               \u001b[38;5;34m0\u001b[0m │\n",
       "├──────────────────────────────────────┼─────────────────────────────┼─────────────────┤\n",
       "│ flatten_1 (\u001b[38;5;33mFlatten\u001b[0m)                  │ (\u001b[38;5;45mNone\u001b[0m, \u001b[38;5;34m11264\u001b[0m)               │               \u001b[38;5;34m0\u001b[0m │\n",
       "├──────────────────────────────────────┼─────────────────────────────┼─────────────────┤\n",
       "│ dense_2 (\u001b[38;5;33mDense\u001b[0m)                      │ (\u001b[38;5;45mNone\u001b[0m, \u001b[38;5;34m250\u001b[0m)                 │       \u001b[38;5;34m2,816,250\u001b[0m │\n",
       "├──────────────────────────────────────┼─────────────────────────────┼─────────────────┤\n",
       "│ dense_3 (\u001b[38;5;33mDense\u001b[0m)                      │ (\u001b[38;5;45mNone\u001b[0m, \u001b[38;5;34m1\u001b[0m)                   │             \u001b[38;5;34m251\u001b[0m │\n",
       "└──────────────────────────────────────┴─────────────────────────────┴─────────────────┘\n"
      ]
     },
     "metadata": {},
     "output_type": "display_data"
    },
    {
     "data": {
      "text/html": [
       "<pre style=\"white-space:pre;overflow-x:auto;line-height:normal;font-family:Menlo,'DejaVu Sans Mono',consolas,'Courier New',monospace\"><span style=\"font-weight: bold\"> Total params: </span><span style=\"color: #00af00; text-decoration-color: #00af00\">3,014,389</span> (11.50 MB)\n",
       "</pre>\n"
      ],
      "text/plain": [
       "\u001b[1m Total params: \u001b[0m\u001b[38;5;34m3,014,389\u001b[0m (11.50 MB)\n"
      ]
     },
     "metadata": {},
     "output_type": "display_data"
    },
    {
     "data": {
      "text/html": [
       "<pre style=\"white-space:pre;overflow-x:auto;line-height:normal;font-family:Menlo,'DejaVu Sans Mono',consolas,'Courier New',monospace\"><span style=\"font-weight: bold\"> Trainable params: </span><span style=\"color: #00af00; text-decoration-color: #00af00\">3,014,389</span> (11.50 MB)\n",
       "</pre>\n"
      ],
      "text/plain": [
       "\u001b[1m Trainable params: \u001b[0m\u001b[38;5;34m3,014,389\u001b[0m (11.50 MB)\n"
      ]
     },
     "metadata": {},
     "output_type": "display_data"
    },
    {
     "data": {
      "text/html": [
       "<pre style=\"white-space:pre;overflow-x:auto;line-height:normal;font-family:Menlo,'DejaVu Sans Mono',consolas,'Courier New',monospace\"><span style=\"font-weight: bold\"> Non-trainable params: </span><span style=\"color: #00af00; text-decoration-color: #00af00\">0</span> (0.00 B)\n",
       "</pre>\n"
      ],
      "text/plain": [
       "\u001b[1m Non-trainable params: \u001b[0m\u001b[38;5;34m0\u001b[0m (0.00 B)\n"
      ]
     },
     "metadata": {},
     "output_type": "display_data"
    }
   ],
   "source": [
    "model1.summary()"
   ]
  },
  {
   "cell_type": "code",
   "execution_count": 85,
   "metadata": {
    "colab": {
     "base_uri": "https://localhost:8080/"
    },
    "id": "L2g_tBlSpqUp",
    "outputId": "2921dea7-8370-47b0-bf27-50e9e746e67a"
   },
   "outputs": [
    {
     "name": "stdout",
     "output_type": "stream",
     "text": [
      "Epoch 1/10\n",
      "33/33 - 15s - 452ms/step - accuracy: 0.7690 - loss: 0.3839 - val_accuracy: 0.9472 - val_loss: 0.1501\n",
      "Epoch 2/10\n",
      "33/33 - 12s - 355ms/step - accuracy: 0.9579 - loss: 0.1283 - val_accuracy: 0.9389 - val_loss: 0.1541\n",
      "Epoch 3/10\n",
      "33/33 - 12s - 359ms/step - accuracy: 0.9574 - loss: 0.1152 - val_accuracy: 0.9578 - val_loss: 0.1310\n",
      "Epoch 4/10\n",
      "33/33 - 20s - 599ms/step - accuracy: 0.9624 - loss: 0.0979 - val_accuracy: 0.9628 - val_loss: 0.1085\n",
      "Epoch 5/10\n",
      "33/33 - 11s - 327ms/step - accuracy: 0.9667 - loss: 0.0847 - val_accuracy: 0.9572 - val_loss: 0.1132\n",
      "Epoch 6/10\n",
      "33/33 - 21s - 630ms/step - accuracy: 0.9707 - loss: 0.0769 - val_accuracy: 0.9650 - val_loss: 0.1028\n",
      "Epoch 7/10\n",
      "33/33 - 20s - 615ms/step - accuracy: 0.9760 - loss: 0.0658 - val_accuracy: 0.9633 - val_loss: 0.0955\n",
      "Epoch 8/10\n",
      "33/33 - 11s - 326ms/step - accuracy: 0.9812 - loss: 0.0531 - val_accuracy: 0.9656 - val_loss: 0.0999\n",
      "Epoch 9/10\n",
      "33/33 - 21s - 624ms/step - accuracy: 0.9807 - loss: 0.0482 - val_accuracy: 0.9717 - val_loss: 0.0905\n",
      "Epoch 10/10\n",
      "33/33 - 11s - 326ms/step - accuracy: 0.9831 - loss: 0.0447 - val_accuracy: 0.9689 - val_loss: 0.0988\n"
     ]
    }
   ],
   "source": [
    "train = model1.fit(x_train, y_train, validation_data=(x_test,y_test), epochs=10, batch_size=128, verbose=2)"
   ]
  },
  {
   "cell_type": "code",
   "execution_count": 86,
   "metadata": {
    "colab": {
     "base_uri": "https://localhost:8080/"
    },
    "id": "hw6vgYmoptfI",
    "outputId": "cf698530-f949-4ebd-e459-e3e39e8ba2bb"
   },
   "outputs": [
    {
     "name": "stdout",
     "output_type": "stream",
     "text": [
      "\u001b[1m57/57\u001b[0m \u001b[32m━━━━━━━━━━━━━━━━━━━━\u001b[0m\u001b[37m\u001b[0m \u001b[1m1s\u001b[0m 20ms/step - accuracy: 0.9680 - loss: 0.1109\n"
     ]
    },
    {
     "data": {
      "text/plain": [
       "[0.09881115704774857, 0.9688888788223267]"
      ]
     },
     "execution_count": 86,
     "metadata": {},
     "output_type": "execute_result"
    }
   ],
   "source": [
    "model1.evaluate(x_test, y_test)"
   ]
  },
  {
   "cell_type": "code",
   "execution_count": 87,
   "metadata": {
    "colab": {
     "base_uri": "https://localhost:8080/",
     "height": 430
    },
    "id": "AqyTo5gWqN8Z",
    "outputId": "aeab8fb0-78dd-4977-ae98-5956de3d520d"
   },
   "outputs": [
    {
     "data": {
      "image/png": "[encoded data removed]",
      "text/plain": [
       "<Figure size 640x480 with 1 Axes>"
      ]
     },
     "metadata": {},
     "output_type": "display_data"
    }
   ],
   "source": [
    "# plot the accuracy plot\n",
    "plt.plot(train.history['accuracy'], 'r')\n",
    "plt.plot(train.history['val_accuracy'], 'b')\n",
    "plt.legend({'Train Accuracy': 'r', 'Test Accuracy':'b'})\n",
    "plt.show()"
   ]
  },
  {
   "cell_type": "code",
   "execution_count": 88,
   "metadata": {
    "colab": {
     "base_uri": "https://localhost:8080/"
    },
    "id": "Enb18wDkdJxr",
    "outputId": "c4642ed8-b96d-4994-cb1b-250b913db5d7"
   },
   "outputs": [
    {
     "name": "stdout",
     "output_type": "stream",
     "text": [
      "\u001b[1m57/57\u001b[0m \u001b[32m━━━━━━━━━━━━━━━━━━━━\u001b[0m\u001b[37m\u001b[0m \u001b[1m1s\u001b[0m 21ms/step\n",
      "Classification Report:\n",
      "              precision    recall  f1-score   support\n",
      "\n",
      "           0       0.96      0.97      0.97       885\n",
      "           1       0.97      0.97      0.97       915\n",
      "\n",
      "    accuracy                           0.97      1800\n",
      "   macro avg       0.97      0.97      0.97      1800\n",
      "weighted avg       0.97      0.97      0.97      1800\n",
      "\n"
     ]
    }
   ],
   "source": [
    "y_pred1 = model1.predict(x_test)\n",
    "y_pred_binary1 = np.round(y_pred1)\n",
    "class_report = classification_report(y_test, y_pred_binary)\n",
    "\n",
    "print(\"Classification Report:\")\n",
    "print(class_report)"
   ]
  },
  {
   "cell_type": "code",
   "execution_count": 89,
   "metadata": {
    "colab": {
     "base_uri": "https://localhost:8080/",
     "height": 541
    },
    "id": "r6WTLX7ahHFD",
    "outputId": "f136f413-07ff-42be-a7ae-2431d927b3fa"
   },
   "outputs": [
    {
     "name": "stdout",
     "output_type": "stream",
     "text": [
      "\u001b[1m57/57\u001b[0m \u001b[32m━━━━━━━━━━━━━━━━━━━━\u001b[0m\u001b[37m\u001b[0m \u001b[1m1s\u001b[0m 20ms/step\n",
      "Confusion Matrix:\n",
      "[[862  23]\n",
      " [ 33 882]]\n"
     ]
    },
    {
     "data": {
      "image/png": "[encoded data removed]",
      "text/plain": [
       "<Figure size 640x480 with 2 Axes>"
      ]
     },
     "metadata": {},
     "output_type": "display_data"
    }
   ],
   "source": [
    "y_pred1 = model1.predict(x_test)\n",
    "y_pred_binary1 = np.round(y_pred1)\n",
    "\n",
    "# Generate and print the confusion matrix\n",
    "cm = confusion_matrix(y_test, y_pred_binary1)\n",
    "print('Confusion Matrix:')\n",
    "print(cm)\n",
    "\n",
    "# Plot the confusion matrix\n",
    "plt.imshow(cm, interpolation='nearest', cmap=plt.cm.Blues)\n",
    "plt.title('Confusion Matrix')\n",
    "plt.colorbar()\n",
    "\n",
    "classes = ['No Seizure', 'Seizure']  # Assuming binary classification\n",
    "tick_marks = np.arange(len(classes))\n",
    "plt.xticks(tick_marks, classes)\n",
    "plt.yticks(tick_marks, classes)\n",
    "\n",
    "plt.xlabel('Predicted Label')\n",
    "plt.ylabel('True Label')\n",
    "\n",
    "# Add text annotations to each cell\n",
    "for i in range(len(classes)):\n",
    "    for j in range(len(classes)):\n",
    "        plt.text(j, i, str(cm[i, j]), ha='center', va='center')\n"
   ]
  },
  {
   "cell_type": "code",
   "execution_count": 90,
   "metadata": {
    "colab": {
     "base_uri": "https://localhost:8080/",
     "height": 718
    },
    "id": "NY3T-nGcmkpO",
    "outputId": "5d39632c-c554-4c35-d676-73778ad15264"
   },
   "outputs": [
    {
     "data": {
      "image/png": "[encoded data removed]",
      "text/plain": [
       "<Figure size 800x800 with 1 Axes>"
      ]
     },
     "metadata": {},
     "output_type": "display_data"
    }
   ],
   "source": [
    "from sklearn.metrics import roc_curve, auc\n",
    "\n",
    "# Compute ROC curve and AUC\n",
    "fpr, tpr, thresholds = roc_curve(y_test, y_pred1)\n",
    "roc_auc = auc(fpr, tpr)\n",
    "\n",
    "# Plot ROC curve\n",
    "plt.figure(figsize=(8, 8))\n",
    "plt.plot(fpr, tpr, color='darkorange', lw=2, label=f'AUC = {roc_auc:.2f}')\n",
    "plt.plot([0, 1], [0, 1], color='navy', lw=2, linestyle='--')\n",
    "plt.xlabel('False Positive Rate')\n",
    "plt.ylabel('True Positive Rate')\n",
    "plt.title('Receiver Operating Characteristic (ROC) Curve')\n",
    "plt.legend(loc='lower right')\n",
    "plt.show()"
   ]
  },
  {
   "cell_type": "code",
   "execution_count": 98,
   "metadata": {},
   "outputs": [
    {
     "name": "stderr",
     "output_type": "stream",
     "text": [
      "WARNING:absl:You are saving your model as an HDF5 file via `model.save()` or `keras.saving.save_model(model)`. This file format is considered legacy. We recommend using instead the native Keras format, e.g. `model.save('my_model.keras')` or `keras.saving.save_model(model, 'my_model.keras')`. \n"
     ]
    },
    {
     "name": "stdout",
     "output_type": "stream",
     "text": [
      "Model saved successfully.\n"
     ]
    }
   ],
   "source": [
    "# Assuming your trained model object is named `model`\n",
    "file_name = r'C:\\Users\\HP\\Desktop\\ITML22- Epileptic Seizure Prediction\\CODE\\FRONT END\\cnn1D_model.h5'\n",
    "\n",
    "# Save the model\n",
    "model1.save(file_name)\n",
    "\n",
    "print(\"Model saved successfully.\")"
   ]
  },
  {
   "cell_type": "markdown",
   "metadata": {
    "id": "BG8bJ3xhhsVm"
   },
   "source": [
    "Hybrid Model"
   ]
  },
  {
   "cell_type": "code",
   "execution_count": 101,
   "metadata": {
    "colab": {
     "base_uri": "https://localhost:8080/"
    },
    "id": "QlyMVOiWYAYW",
    "outputId": "7584ac4d-401a-404a-c9eb-17fae545d398"
   },
   "outputs": [
    {
     "name": "stdout",
     "output_type": "stream",
     "text": [
      "Epoch 1/10\n"
     ]
    },
    {
     "name": "stderr",
     "output_type": "stream",
     "text": [
      "C:\\Users\\HP\\anaconda3\\Lib\\site-packages\\keras\\src\\layers\\core\\dense.py:87: UserWarning: Do not pass an `input_shape`/`input_dim` argument to a layer. When using Sequential models, prefer using an `Input(shape)` object as the first layer in the model instead.\n",
      "  super().__init__(activity_regularizer=activity_regularizer, **kwargs)\n"
     ]
    },
    {
     "name": "stdout",
     "output_type": "stream",
     "text": [
      "\u001b[1m105/105\u001b[0m \u001b[32m━━━━━━━━━━━━━━━━━━━━\u001b[0m\u001b[37m\u001b[0m \u001b[1m2s\u001b[0m 4ms/step - accuracy: 0.5842 - loss: 0.6386 - val_accuracy: 0.9179 - val_loss: 0.3379\n",
      "Epoch 2/10\n",
      "\u001b[1m105/105\u001b[0m \u001b[32m━━━━━━━━━━━━━━━━━━━━\u001b[0m\u001b[37m\u001b[0m \u001b[1m0s\u001b[0m 2ms/step - accuracy: 0.8972 - loss: 0.3401 - val_accuracy: 0.9869 - val_loss: 0.2149\n",
      "Epoch 3/10\n",
      "\u001b[1m105/105\u001b[0m \u001b[32m━━━━━━━━━━━━━━━━━━━━\u001b[0m\u001b[37m\u001b[0m \u001b[1m0s\u001b[0m 2ms/step - accuracy: 0.9509 - loss: 0.2302 - val_accuracy: 0.9940 - val_loss: 0.1317\n",
      "Epoch 4/10\n",
      "\u001b[1m105/105\u001b[0m \u001b[32m━━━━━━━━━━━━━━━━━━━━\u001b[0m\u001b[37m\u001b[0m \u001b[1m0s\u001b[0m 2ms/step - accuracy: 0.9799 - loss: 0.1450 - val_accuracy: 0.9976 - val_loss: 0.0823\n",
      "Epoch 5/10\n",
      "\u001b[1m105/105\u001b[0m \u001b[32m━━━━━━━━━━━━━━━━━━━━\u001b[0m\u001b[37m\u001b[0m \u001b[1m0s\u001b[0m 2ms/step - accuracy: 0.9881 - loss: 0.0997 - val_accuracy: 0.9988 - val_loss: 0.0499\n",
      "Epoch 6/10\n",
      "\u001b[1m105/105\u001b[0m \u001b[32m━━━━━━━━━━━━━━━━━━━━\u001b[0m\u001b[37m\u001b[0m \u001b[1m0s\u001b[0m 2ms/step - accuracy: 0.9881 - loss: 0.0709 - val_accuracy: 0.9988 - val_loss: 0.0318\n",
      "Epoch 7/10\n",
      "\u001b[1m105/105\u001b[0m \u001b[32m━━━━━━━━━━━━━━━━━━━━\u001b[0m\u001b[37m\u001b[0m \u001b[1m0s\u001b[0m 2ms/step - accuracy: 0.9921 - loss: 0.0514 - val_accuracy: 0.9988 - val_loss: 0.0214\n",
      "Epoch 8/10\n",
      "\u001b[1m105/105\u001b[0m \u001b[32m━━━━━━━━━━━━━━━━━━━━\u001b[0m\u001b[37m\u001b[0m \u001b[1m0s\u001b[0m 2ms/step - accuracy: 0.9946 - loss: 0.0338 - val_accuracy: 0.9988 - val_loss: 0.0141\n",
      "Epoch 9/10\n",
      "\u001b[1m105/105\u001b[0m \u001b[32m━━━━━━━━━━━━━━━━━━━━\u001b[0m\u001b[37m\u001b[0m \u001b[1m0s\u001b[0m 2ms/step - accuracy: 0.9991 - loss: 0.0234 - val_accuracy: 0.9988 - val_loss: 0.0108\n",
      "Epoch 10/10\n",
      "\u001b[1m105/105\u001b[0m \u001b[32m━━━━━━━━━━━━━━━━━━━━\u001b[0m\u001b[37m\u001b[0m \u001b[1m0s\u001b[0m 2ms/step - accuracy: 0.9969 - loss: 0.0240 - val_accuracy: 1.0000 - val_loss: 0.0075\n",
      "\u001b[1m57/57\u001b[0m \u001b[32m━━━━━━━━━━━━━━━━━━━━\u001b[0m\u001b[37m\u001b[0m \u001b[1m0s\u001b[0m 2ms/step\n",
      "Hybrid Model Accuracy: 0.9805555555555555\n",
      "\n",
      "Classification Report:\n",
      "              precision    recall  f1-score   support\n",
      "\n",
      "           0       0.99      0.97      0.98       885\n",
      "           1       0.97      0.99      0.98       915\n",
      "\n",
      "    accuracy                           0.98      1800\n",
      "   macro avg       0.98      0.98      0.98      1800\n",
      "weighted avg       0.98      0.98      0.98      1800\n",
      "\n",
      "\n",
      "Confusion Matrix:\n",
      "[[856  29]\n",
      " [  6 909]]\n"
     ]
    }
   ],
   "source": [
    "import pandas as pd\n",
    "import numpy as np\n",
    "from sklearn.model_selection import train_test_split\n",
    "from sklearn.ensemble import RandomForestClassifier\n",
    "from sklearn.metrics import accuracy_score, classification_report, confusion_matrix\n",
    "from sklearn.preprocessing import StandardScaler\n",
    "from tensorflow.keras.models import Sequential\n",
    "from tensorflow.keras.layers import Dense, Dropout\n",
    "from tensorflow.keras.utils import to_categorical\n",
    "\n",
    "\n",
    "scaler = StandardScaler()\n",
    "X_train_scaled = scaler.fit_transform(x_train)\n",
    "X_test_scaled = scaler.transform(x_test)\n",
    "\n",
    "# Train a Random Forest classifier for feature extraction\n",
    "rf_model = RandomForestClassifier(n_estimators=100, random_state=42)\n",
    "rf_model.fit(x_train, y_train)\n",
    "\n",
    "# Extract features using the trained Random Forest\n",
    "rf_features_train = rf_model.predict(x_train)\n",
    "rf_features_test = rf_model.predict(x_test)\n",
    "\n",
    "# Concatenate the original features with the extracted features\n",
    "X_train_combined = np.concatenate([X_train_scaled, rf_features_train.reshape(-1, 1)], axis=1)\n",
    "X_test_combined = np.concatenate([X_test_scaled, rf_features_test.reshape(-1, 1)], axis=1)\n",
    "\n",
    "# Convert target labels to categorical format\n",
    "y_train_categorical = to_categorical(y_train)\n",
    "y_test_categorical = to_categorical(y_test)\n",
    "\n",
    "# Define  Neural Network\n",
    "nn_model = Sequential()\n",
    "nn_model.add(Dense(64, activation='relu', input_shape=(X_train_combined.shape[1],)))\n",
    "nn_model.add(Dropout(0.5))\n",
    "nn_model.add(Dense(2, activation='softmax'))  # Assuming binary classification\n",
    "\n",
    "# Compile and train the Neural Network\n",
    "nn_model.compile(optimizer='adam', loss='categorical_crossentropy', metrics=['accuracy'])\n",
    "history2 = nn_model.fit(X_train_combined, y_train_categorical, epochs=10, batch_size=32, validation_split=0.2)\n",
    "\n",
    "# Make predictions on the test set\n",
    "nn_predictions = nn_model.predict(X_test_combined)\n",
    "nn_predicted_labels = np.argmax(nn_predictions, axis=1)\n",
    "\n",
    "# Evaluate the performance of the hybrid model\n",
    "accuracy = accuracy_score(y_test, nn_predicted_labels)\n",
    "print(f'Hybrid Model Accuracy: {accuracy}')\n",
    "\n",
    "# Display other evaluation metrics\n",
    "print('\\nClassification Report:')\n",
    "print(classification_report(y_test, nn_predicted_labels))\n",
    "\n",
    "# Display the confusion matrix\n",
    "cm = confusion_matrix(y_test, nn_predicted_labels)\n",
    "print('\\nConfusion Matrix:')\n",
    "print(cm)\n"
   ]
  },
  {
   "cell_type": "code",
   "execution_count": 102,
   "metadata": {
    "colab": {
     "base_uri": "https://localhost:8080/",
     "height": 524
    },
    "id": "3PBD2fxQaWeL",
    "outputId": "1c571569-8482-487e-af5b-df6a1cf9a40a"
   },
   "outputs": [
    {
     "name": "stdout",
     "output_type": "stream",
     "text": [
      "Confusion Matrix:\n",
      "[[856  29]\n",
      " [  6 909]]\n"
     ]
    },
    {
     "data": {
      "image/png": "[encoded data removed]",
      "text/plain": [
       "<Figure size 640x480 with 2 Axes>"
      ]
     },
     "metadata": {},
     "output_type": "display_data"
    }
   ],
   "source": [
    "# Generate and print the confusion matrix\n",
    "cm = confusion_matrix(y_test, nn_predicted_labels)\n",
    "print('Confusion Matrix:')\n",
    "print(cm)\n",
    "\n",
    "# Plot the confusion matrix\n",
    "plt.imshow(cm, interpolation='nearest', cmap=plt.cm.Blues)\n",
    "plt.title('Confusion Matrix')\n",
    "plt.colorbar()\n",
    "\n",
    "classes = ['No Seizure', 'Seizure']  # Assuming binary classification\n",
    "tick_marks = np.arange(len(classes))\n",
    "plt.xticks(tick_marks, classes)\n",
    "plt.yticks(tick_marks, classes)\n",
    "\n",
    "plt.xlabel('Predicted Label')\n",
    "plt.ylabel('True Label')\n",
    "\n",
    "# Add text annotations to each cell\n",
    "for i in range(len(classes)):\n",
    "    for j in range(len(classes)):\n",
    "        plt.text(j, i, str(cm[i, j]), ha='center', va='center')\n"
   ]
  },
  {
   "cell_type": "code",
   "execution_count": 103,
   "metadata": {
    "colab": {
     "base_uri": "https://localhost:8080/",
     "height": 718
    },
    "id": "HSVFxu0IbLyJ",
    "outputId": "f9fbe037-210a-4dd1-9560-4990c8f4179e"
   },
   "outputs": [
    {
     "data": {
      "image/png": "[encoded data removed]",
      "text/plain": [
       "<Figure size 800x800 with 1 Axes>"
      ]
     },
     "metadata": {},
     "output_type": "display_data"
    }
   ],
   "source": [
    "from sklearn.metrics import roc_curve, auc\n",
    "\n",
    "# Compute ROC curve and AUC\n",
    "fpr, tpr, thresholds = roc_curve(y_test, nn_predicted_labels)\n",
    "roc_auc = auc(fpr, tpr)\n",
    "\n",
    "# Plot ROC curve\n",
    "plt.figure(figsize=(8, 8))\n",
    "plt.plot(fpr, tpr, color='darkorange', lw=2, label=f'AUC = {roc_auc:.2f}')\n",
    "plt.plot([0, 1], [0, 1], color='navy', lw=2, linestyle='--')\n",
    "plt.xlabel('False Positive Rate')\n",
    "plt.ylabel('True Positive Rate')\n",
    "plt.title('Receiver Operating Characteristic (ROC) Curve')\n",
    "plt.legend(loc='lower right')\n",
    "plt.show()"
   ]
  },
  {
   "cell_type": "code",
   "execution_count": 104,
   "metadata": {
    "colab": {
     "base_uri": "https://localhost:8080/",
     "height": 430
    },
    "id": "dA-MjClum45i",
    "outputId": "dc64d095-0852-4986-b4d0-9476ad5a68ba"
   },
   "outputs": [
    {
     "data": {
      "image/png": "[encoded data removed]",
      "text/plain": [
       "<Figure size 640x480 with 1 Axes>"
      ]
     },
     "metadata": {},
     "output_type": "display_data"
    }
   ],
   "source": [
    "# plot the accuracy plot\n",
    "plt.plot(history2.history['accuracy'], 'r')\n",
    "plt.plot(history2.history['val_accuracy'], 'b')\n",
    "plt.legend({'Train Accuracy': 'r', 'Test Accuracy':'b'})\n",
    "plt.show()"
   ]
  },
  {
   "cell_type": "code",
   "execution_count": 105,
   "metadata": {
    "id": "FkF_md6VoH_F"
   },
   "outputs": [
    {
     "name": "stderr",
     "output_type": "stream",
     "text": [
      "WARNING:absl:You are saving your model as an HDF5 file via `model.save()` or `keras.saving.save_model(model)`. This file format is considered legacy. We recommend using instead the native Keras format, e.g. `model.save('my_model.keras')` or `keras.saving.save_model(model, 'my_model.keras')`. \n"
     ]
    },
    {
     "name": "stdout",
     "output_type": "stream",
     "text": [
      "Model saved successfully.\n"
     ]
    }
   ],
   "source": [
    "# Assuming your trained model object is named `model`\n",
    "file_name = r'C:\\Users\\HP\\Desktop\\ITML22- Epileptic Seizure Prediction\\CODE\\FRONT END\\cnn1D_model.h5'\n",
    "\n",
    "# Save the model\n",
    "model1.save(file_name)\n",
    "\n",
    "print(\"Model saved successfully.\")"
   ]
  }
 ],
 "metadata": {
  "colab": {
   "provenance": []
  },
  "kernelspec": {
   "display_name": "Python 3 (ipykernel)",
   "language": "python",
   "name": "python3"
  },
  "language_info": {
   "codemirror_mode": {
    "name": "ipython",
    "version": 3
   },
   "file_extension": ".py",
   "mimetype": "text/x-python",
   "name": "python",
   "nbconvert_exporter": "python",
   "pygments_lexer": "ipython3",
   "version": "3.12.4"
  }
 },
 "nbformat": 4,
 "nbformat_minor": 4
}
